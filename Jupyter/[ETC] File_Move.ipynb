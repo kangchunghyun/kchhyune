{
 "cells": [
  {
   "cell_type": "code",
   "execution_count": 1,
   "metadata": {
    "ExecuteTime": {
     "end_time": "2025-03-11T04:42:01.227514Z",
     "start_time": "2025-03-11T04:42:01.216916Z"
    }
   },
   "outputs": [],
   "source": [
    "import os\n",
    "import shutil\n",
    "import time\n",
    "from glob import glob"
   ]
  },
  {
   "cell_type": "code",
   "execution_count": 2,
   "metadata": {
    "ExecuteTime": {
     "end_time": "2025-03-11T04:42:08.057808Z",
     "start_time": "2025-03-11T04:42:04.191013Z"
    }
   },
   "outputs": [
    {
     "name": "stdout",
     "output_type": "stream",
     "text": [
      "이동할 파일의 위치(경로)를 입력해주세요. \n",
      "D:\\01_Sample\\CDR\\CSV\\Performance\\\n"
     ]
    }
   ],
   "source": [
    "# 이동할 파일의 위치를 지정한다. \n",
    "input_path = input(\"이동할 파일의 위치(경로)를 입력해주세요. \\n\") \n",
    "#input_path = \"Z:\\\\Sample_New\\\\MALICIOUS_DOCUMENT_FILE\\\\\"\n",
    "#input_path = \"Z:\\\\Sample_New\\\\BENIGN_FILE\\\\\"\n",
    "#input_path = \"Z:\\\\Sample_New\\\\ENGINE_Analysis\\\\MALICIOUS_DOCUMENT_FILE\\\\\"\n",
    "#input_path = \"Y:\\\\Before_sample\\\\benign\\\\\"\n",
    "#input_path = \"E:\\\\\"\n",
    "\n",
    "\n",
    "# Z:\\Sample_New\\MALICIOUS_DOCUMENT_FILE\\ : 악성 파일 경로 \n",
    "# Z:\\Sample_New\\BENIGN_FILE\\ : 정상 파일 경로\n",
    "# Z:\\Sample_New\\Seculetter_Viper\\MALICIOUS\\ : 악성 파일 경로 (Seculetter)"
   ]
  },
  {
   "cell_type": "code",
   "execution_count": 8,
   "metadata": {
    "ExecuteTime": {
     "end_time": "2025-03-11T05:35:34.514341Z",
     "start_time": "2025-03-11T05:35:33.890413Z"
    }
   },
   "outputs": [
    {
     "name": "stdout",
     "output_type": "stream",
     "text": [
      "이동 할 경로를 입력해주세요. \n",
      "\\\\192.168.2.22\\kang1\\upload\\\n"
     ]
    }
   ],
   "source": [
    "# 이동할 경로를 지정한다.\n",
    "output_path = input(\"이동 할 경로를 입력해주세요. \\n\")"
   ]
  },
  {
   "cell_type": "code",
   "execution_count": 12,
   "metadata": {
    "ExecuteTime": {
     "end_time": "2025-03-11T21:54:21.945394Z",
     "start_time": "2025-03-11T06:45:00.046362Z"
    },
    "scrolled": true
   },
   "outputs": [
    {
     "ename": "KeyboardInterrupt",
     "evalue": "",
     "output_type": "error",
     "traceback": [
      "\u001b[1;31m---------------------------------------------------------------------------\u001b[0m",
      "\u001b[1;31mKeyboardInterrupt\u001b[0m                         Traceback (most recent call last)",
      "\u001b[1;32m~\\AppData\\Local\\Temp\\ipykernel_24136\\1188330183.py\u001b[0m in \u001b[0;36m<module>\u001b[1;34m\u001b[0m\n\u001b[0;32m      6\u001b[0m \u001b[1;32mwhile\u001b[0m \u001b[1;32mTrue\u001b[0m\u001b[1;33m:\u001b[0m\u001b[1;33m\u001b[0m\u001b[1;33m\u001b[0m\u001b[0m\n\u001b[0;32m      7\u001b[0m \u001b[1;33m\u001b[0m\u001b[0m\n\u001b[1;32m----> 8\u001b[1;33m     \u001b[1;32mwhile\u001b[0m \u001b[0mlen\u001b[0m\u001b[1;33m(\u001b[0m\u001b[0mos\u001b[0m\u001b[1;33m.\u001b[0m\u001b[0mlistdir\u001b[0m\u001b[1;33m(\u001b[0m\u001b[0moutput_path\u001b[0m\u001b[1;33m)\u001b[0m\u001b[1;33m)\u001b[0m \u001b[1;33m<\u001b[0m \u001b[0mdirCount\u001b[0m\u001b[1;33m:\u001b[0m\u001b[1;33m\u001b[0m\u001b[1;33m\u001b[0m\u001b[0m\n\u001b[0m\u001b[0;32m      9\u001b[0m         \u001b[1;32mif\u001b[0m \u001b[0mcount\u001b[0m \u001b[1;33m<=\u001b[0m \u001b[0mendcount\u001b[0m\u001b[1;33m:\u001b[0m\u001b[1;33m\u001b[0m\u001b[1;33m\u001b[0m\u001b[0m\n\u001b[0;32m     10\u001b[0m             \u001b[0mcount\u001b[0m \u001b[1;33m=\u001b[0m \u001b[0mcount\u001b[0m\u001b[1;33m+\u001b[0m\u001b[1;36m1\u001b[0m\u001b[1;33m\u001b[0m\u001b[1;33m\u001b[0m\u001b[0m\n",
      "\u001b[1;31mKeyboardInterrupt\u001b[0m: "
     ]
    }
   ],
   "source": [
    "count = 64\n",
    "dirCount = 100\n",
    "endcount = 9999999\n",
    "list=[]\n",
    "\n",
    "while True: \n",
    "        \n",
    "    while len(os.listdir(output_path)) < dirCount:\n",
    "        if count <= endcount: \n",
    "            count = count+1\n",
    "            \n",
    "            for filePath in glob(input_path + \"*\"):\n",
    "\n",
    "                try:\n",
    "                    fileDir, fileName = os.path.split(filePath)\n",
    "                    shutil.copy(filePath,  output_path + str(count) + \"_\" + fileName)   # copy : 복사 , move : 잘라내기\n",
    "                    #print(\"{}. {} 으로 {} 파일을 옮기는 중입니다.\".format(count, output_path, fileName))\n",
    "                    time.sleep(1)\n",
    "\n",
    "                except OSError as oserror: \n",
    "                    print(f\".. 네트워크 오류...  {oserror}\")\n",
    "                    time.sleep(5)\n",
    "                    pass\n",
    "\n",
    "        else: \n",
    "            print(\"테스트 완료\")\n",
    "            break"
   ]
  },
  {
   "cell_type": "code",
   "execution_count": 10,
   "metadata": {
    "ExecuteTime": {
     "end_time": "2025-03-11T06:44:18.277137Z",
     "start_time": "2025-03-11T06:44:18.270901Z"
    }
   },
   "outputs": [
    {
     "data": {
      "text/plain": [
       "['10_Sample.csv',\n",
       " '11_Sample.csv',\n",
       " '12_Sample.csv',\n",
       " '13_Sample.csv',\n",
       " '14_Sample.csv',\n",
       " '15_Sample.csv',\n",
       " '16_Sample.csv',\n",
       " '17_Sample.csv',\n",
       " '18_Sample.csv',\n",
       " '19_Sample.csv',\n",
       " '1_Sample.csv',\n",
       " '20_Sample.csv',\n",
       " '21_Sample.csv',\n",
       " '22_Sample.csv',\n",
       " '23_Sample.csv',\n",
       " '24_Sample.csv',\n",
       " '25_Sample.csv',\n",
       " '26_Sample.csv',\n",
       " '27_Sample.csv',\n",
       " '28_Sample.csv',\n",
       " '29_Sample.csv',\n",
       " '2_Sample.csv',\n",
       " '30_Sample.csv',\n",
       " '31_Sample.csv',\n",
       " '32_Sample.csv',\n",
       " '33_Sample.csv',\n",
       " '34_Sample.csv',\n",
       " '35_Sample.csv',\n",
       " '36_Sample.csv',\n",
       " '37_Sample.csv',\n",
       " '38_Sample.csv',\n",
       " '39_Sample.csv',\n",
       " '3_Sample.csv',\n",
       " '40_Sample.csv',\n",
       " '41_Sample.csv',\n",
       " '42_Sample.csv',\n",
       " '43_Sample.csv',\n",
       " '44_Sample.csv',\n",
       " '45_Sample.csv',\n",
       " '46_Sample.csv',\n",
       " '47_Sample.csv',\n",
       " '48_Sample.csv',\n",
       " '49_Sample.csv',\n",
       " '4_Sample.csv',\n",
       " '50_Sample.csv',\n",
       " '51_Sample.csv',\n",
       " '52_Sample.csv',\n",
       " '53_Sample.csv',\n",
       " '54_Sample.csv',\n",
       " '55_Sample.csv',\n",
       " '56_Sample.csv',\n",
       " '57_Sample.csv',\n",
       " '58_Sample.csv',\n",
       " '59_Sample.csv',\n",
       " '5_Sample.csv',\n",
       " '60_Sample.csv',\n",
       " '61_Sample.csv',\n",
       " '62_Sample.csv',\n",
       " '63_Sample.csv',\n",
       " '64_Sample.csv',\n",
       " '6_Sample.csv',\n",
       " '7_Sample.csv',\n",
       " '8_Sample.csv',\n",
       " '9_Sample.csv']"
      ]
     },
     "execution_count": 10,
     "metadata": {},
     "output_type": "execute_result"
    }
   ],
   "source": [
    "os.listdir(output_path)"
   ]
  },
  {
   "cell_type": "code",
   "execution_count": 6,
   "metadata": {
    "ExecuteTime": {
     "end_time": "2024-12-16T23:52:17.591505Z",
     "start_time": "2024-12-16T23:52:17.579626Z"
    }
   },
   "outputs": [
    {
     "name": "stdout",
     "output_type": "stream",
     "text": [
      "Variable          Type                          Data/Info\n",
      "---------------------------------------------------------\n",
      "NamespaceMagics   MetaHasTraits                 <class 'IPython.core.magi<...>mespace.NamespaceMagics'>\n",
      "count             int                           0\n",
      "filePath          str                           \\\\192.168.2.11\\slf_003\\ST<...>TF\\RTF_OLE_DEPTH_1000.rtf\n",
      "get_ipython       function                      <function get_ipython at 0x000001C4581584C8>\n",
      "getsizeof         builtin_function_or_method    <built-in function getsizeof>\n",
      "glob              function                      <function glob at 0x000001C458076C18>\n",
      "input_path        str                           \\\\192.168.2.11\\slf_003\\STRESS_RTF\\\n",
      "json              module                        <module 'json' from 'c:\\\\<...>\\lib\\\\json\\\\__init__.py'>\n",
      "list              list                          n=0\n",
      "np                module                        <module 'numpy' from 'c:\\<...>ges\\\\numpy\\\\__init__.py'>\n",
      "os                module                        <module 'os' from 'c:\\\\us<...>n\\\\python37\\\\lib\\\\os.py'>\n",
      "output_path       str                           \\\\192.168.2.11\\slf_003\\upload\\\n",
      "shutil            module                        <module 'shutil' from 'c:<...>ython37\\\\lib\\\\shutil.py'>\n",
      "time              module                        <module 'time' (built-in)>\n",
      "var_dic_list      function                      <function var_dic_list at 0x000001C459F71798>\n"
     ]
    }
   ],
   "source": [
    "whos"
   ]
  },
  {
   "cell_type": "code",
   "execution_count": null,
   "metadata": {},
   "outputs": [],
   "source": []
  }
 ],
 "metadata": {
  "kernelspec": {
   "display_name": "Python 3 (ipykernel)",
   "language": "python",
   "name": "python3"
  },
  "language_info": {
   "codemirror_mode": {
    "name": "ipython",
    "version": 3
   },
   "file_extension": ".py",
   "mimetype": "text/x-python",
   "name": "python",
   "nbconvert_exporter": "python",
   "pygments_lexer": "ipython3",
   "version": "3.7.9"
  },
  "toc": {
   "base_numbering": 1,
   "nav_menu": {},
   "number_sections": true,
   "sideBar": true,
   "skip_h1_title": false,
   "title_cell": "Table of Contents",
   "title_sidebar": "Contents",
   "toc_cell": false,
   "toc_position": {},
   "toc_section_display": true,
   "toc_window_display": false
  },
  "varInspector": {
   "cols": {
    "lenName": 16,
    "lenType": 16,
    "lenVar": 40
   },
   "kernels_config": {
    "python": {
     "delete_cmd_postfix": "",
     "delete_cmd_prefix": "del ",
     "library": "var_list.py",
     "varRefreshCmd": "print(var_dic_list())"
    },
    "r": {
     "delete_cmd_postfix": ") ",
     "delete_cmd_prefix": "rm(",
     "library": "var_list.r",
     "varRefreshCmd": "cat(var_dic_list()) "
    }
   },
   "types_to_exclude": [
    "module",
    "function",
    "builtin_function_or_method",
    "instance",
    "_Feature"
   ],
   "window_display": false
  }
 },
 "nbformat": 4,
 "nbformat_minor": 4
}
