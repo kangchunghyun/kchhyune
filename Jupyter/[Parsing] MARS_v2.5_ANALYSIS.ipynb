{
 "cells": [
  {
   "cell_type": "code",
   "execution_count": 1,
   "id": "continuous-disposition",
   "metadata": {
    "ExecuteTime": {
     "end_time": "2025-03-04T03:38:53.408693Z",
     "start_time": "2025-03-04T03:38:53.191800Z"
    }
   },
   "outputs": [],
   "source": [
    "from json import loads\n",
    "import os.path, time\n",
    "import csv\n",
    "import re\n",
    "import shutil\n",
    "from glob import glob\n",
    "from openpyxl import load_workbook\n",
    "# import pandas as pd"
   ]
  },
  {
   "cell_type": "code",
   "execution_count": 2,
   "id": "headed-charity",
   "metadata": {
    "ExecuteTime": {
     "end_time": "2025-03-04T03:38:54.535626Z",
     "start_time": "2025-03-04T03:38:53.510662Z"
    }
   },
   "outputs": [
    {
     "name": "stdout",
     "output_type": "stream",
     "text": [
      "json 경로를 입력해주세요.\n",
      "\\\\192.168.2.21\\NFS_Test\\Report\\\n"
     ]
    }
   ],
   "source": [
    "dirname = input(\"json 경로를 입력해주세요.\\n\")\n",
    "#glob(dirname+'*.json')"
   ]
  },
  {
   "cell_type": "code",
   "execution_count": 3,
   "id": "liberal-board",
   "metadata": {
    "ExecuteTime": {
     "end_time": "2025-03-04T03:39:01.428423Z",
     "start_time": "2025-03-04T03:38:57.056821Z"
    }
   },
   "outputs": [
    {
     "name": "stdout",
     "output_type": "stream",
     "text": [
      "csv 결과 파일을 저장할 경로는 입력하세요. \n",
      "\\\\192.168.2.21\\NFS_Test\\\n",
      "\\\\192.168.2.21\\NFS_Test\\result_file.csv\n"
     ]
    }
   ],
   "source": [
    "result_dir = input(\"csv 결과 파일을 저장할 경로는 입력하세요. \\n\")\n",
    "result_file = os.path.join(result_dir,\"result_file.csv\")\n",
    "print(result_file)"
   ]
  },
  {
   "cell_type": "code",
   "execution_count": 4,
   "id": "experimental-dictionary",
   "metadata": {
    "ExecuteTime": {
     "end_time": "2025-03-04T03:39:02.743203Z",
     "start_time": "2025-03-04T03:39:02.731732Z"
    }
   },
   "outputs": [],
   "source": [
    "data = {'targetId': '-', 'sha256': '-', 'fileName': '-', 'mimeType': '-', 'detectedExtension': '-', 'size': '-',\n",
    "        'allElapsedTime': '-', 'engineSet0Time': '-', 'engineSet1Time': '-', 'engineSet2Time': '-', 'summaryResult': '-', \n",
    "        'summaryExploitName': '-', 'event': '-'}\n",
    "count = 0"
   ]
  },
  {
   "cell_type": "code",
   "execution_count": 5,
   "id": "still-genius",
   "metadata": {
    "ExecuteTime": {
     "end_time": "2025-03-04T03:39:03.608868Z",
     "start_time": "2025-03-04T03:39:03.176464Z"
    }
   },
   "outputs": [
    {
     "name": "stdout",
     "output_type": "stream",
     "text": [
      "\\\\192.168.2.21\\NFS_Test\\Report\\3_PPTM_LINK_CASE_02.pptm.json\n"
     ]
    },
    {
     "ename": "KeyError",
     "evalue": "'targetId'",
     "output_type": "error",
     "traceback": [
      "\u001b[1;31m---------------------------------------------------------------------------\u001b[0m",
      "\u001b[1;31mKeyError\u001b[0m                                  Traceback (most recent call last)",
      "\u001b[1;32m~\\AppData\\Local\\Temp\\ipykernel_37880\\76258953.py\u001b[0m in \u001b[0;36m<module>\u001b[1;34m\u001b[0m\n\u001b[0;32m     15\u001b[0m \u001b[1;33m\u001b[0m\u001b[0m\n\u001b[0;32m     16\u001b[0m             \u001b[1;31m# 샘플 기본 정보\u001b[0m\u001b[1;33m\u001b[0m\u001b[1;33m\u001b[0m\u001b[1;33m\u001b[0m\u001b[0m\n\u001b[1;32m---> 17\u001b[1;33m             \u001b[0mdata\u001b[0m\u001b[1;33m[\u001b[0m\u001b[1;34m\"targetId\"\u001b[0m\u001b[1;33m]\u001b[0m \u001b[1;33m=\u001b[0m \u001b[0mjson_data\u001b[0m\u001b[1;33m[\u001b[0m\u001b[1;34m\"fileAnalysisResults\"\u001b[0m\u001b[1;33m]\u001b[0m\u001b[1;33m[\u001b[0m\u001b[1;36m0\u001b[0m\u001b[1;33m]\u001b[0m\u001b[1;33m[\u001b[0m\u001b[1;34m\"targetId\"\u001b[0m\u001b[1;33m]\u001b[0m\u001b[1;33m\u001b[0m\u001b[1;33m\u001b[0m\u001b[0m\n\u001b[0m\u001b[0;32m     18\u001b[0m             \u001b[0mdata\u001b[0m\u001b[1;33m[\u001b[0m\u001b[1;34m\"sha256\"\u001b[0m\u001b[1;33m]\u001b[0m \u001b[1;33m=\u001b[0m \u001b[0mjson_data\u001b[0m\u001b[1;33m[\u001b[0m\u001b[1;34m\"fileAnalysisResults\"\u001b[0m\u001b[1;33m]\u001b[0m\u001b[1;33m[\u001b[0m\u001b[1;36m0\u001b[0m\u001b[1;33m]\u001b[0m\u001b[1;33m[\u001b[0m\u001b[1;34m\"sha256\"\u001b[0m\u001b[1;33m]\u001b[0m\u001b[1;33m\u001b[0m\u001b[1;33m\u001b[0m\u001b[0m\n\u001b[0;32m     19\u001b[0m             \u001b[0mdata\u001b[0m\u001b[1;33m[\u001b[0m\u001b[1;34m\"fileName\"\u001b[0m\u001b[1;33m]\u001b[0m \u001b[1;33m=\u001b[0m \u001b[0mjson_data\u001b[0m\u001b[1;33m[\u001b[0m\u001b[1;34m\"fileAnalysisResults\"\u001b[0m\u001b[1;33m]\u001b[0m\u001b[1;33m[\u001b[0m\u001b[1;36m0\u001b[0m\u001b[1;33m]\u001b[0m\u001b[1;33m[\u001b[0m\u001b[1;34m\"fileName\"\u001b[0m\u001b[1;33m]\u001b[0m\u001b[1;33m\u001b[0m\u001b[1;33m\u001b[0m\u001b[0m\n",
      "\u001b[1;31mKeyError\u001b[0m: 'targetId'"
     ]
    }
   ],
   "source": [
    "with open(result_file, \"w\", encoding='utf-8', newline='') as csv_file:\n",
    "    \n",
    "    write = csv.DictWriter(csv_file, fieldnames = data.keys())\n",
    "    write.writeheader()\n",
    "    \n",
    "    #write = csv.writer(csv_file)\n",
    "\n",
    "    for report in glob(dirname+'*.json'):\n",
    "        count = count + 1 \n",
    "        \n",
    "        with open(report, 'r', encoding='utf-8') as json_file:\n",
    "            json_data = loads(json_file.read())\n",
    "            \n",
    "            print(report)\n",
    "            \n",
    "            # 샘플 기본 정보\n",
    "            data[\"targetId\"] = json_data[\"fileAnalysisResults\"][0][\"targetId\"]\n",
    "            data[\"sha256\"] = json_data[\"fileAnalysisResults\"][0][\"sha256\"]\n",
    "            data[\"fileName\"] = json_data[\"fileAnalysisResults\"][0][\"fileName\"]\n",
    "            data[\"mimeType\"] = json_data[\"fileAnalysisResults\"][0][\"mimeType\"]\n",
    "            data[\"detectedExtension\"] = json_data[\"fileAnalysisResults\"][0][\"detectedExtension\"]\n",
    "            data[\"size\"] = json_data[\"fileAnalysisResults\"][0][\"size\"]\n",
    "            \n",
    "            # 분석 속도\n",
    "            #data[\"summaryTime\"] = json_data[\"fileAnalysisResults\"][0][\"summaryEngineElapsedTime\"] / 1000\n",
    "            data[\"allElapsedTime\"] = json_data[\"allElapsedTime\"] / 1000\n",
    "            \n",
    "            for check in range(len(json_data[\"fileAnalysisResults\"][0][\"analyserInfos\"])):\n",
    "                #data[json_data[\"fileAnalysisResults\"][0][\"analyserInfos\"][check][\"analyserName\"]] = json_data[\"fileAnalysisResults\"][0][\"analyserInfos\"][check][\"elapsedTime\"] / 1000\n",
    "                \n",
    "                if json_data[\"fileAnalysisResults\"][0][\"analyserInfos\"][check][\"analyserName\"] == \"EngineSet 0\":\n",
    "                    data[\"engineSet0Time\"] = json_data[\"fileAnalysisResults\"][0][\"analyserInfos\"][check][\"elapsedTime\"] / 1000\n",
    "                if json_data[\"fileAnalysisResults\"][0][\"analyserInfos\"][check][\"analyserName\"] == \"EngineSet 1\":\n",
    "                    data[\"engineSet1Time\"] = json_data[\"fileAnalysisResults\"][0][\"analyserInfos\"][check][\"elapsedTime\"] / 1000\n",
    "                if json_data[\"fileAnalysisResults\"][0][\"analyserInfos\"][check][\"analyserName\"] == \"EngineSet 2\":\n",
    "                    data[\"engineSet2Time\"] = json_data[\"fileAnalysisResults\"][0][\"analyserInfos\"][check][\"elapsedTime\"] / 1000\n",
    "\n",
    "            # 분석 진단 이벤트\n",
    "            data[\"summaryResult\"] = json_data[\"fileAnalysisResults\"][0][\"summaryResult\"]\n",
    "            data[\"summaryExploitName\"] = json_data[\"fileAnalysisResults\"][0].get(\"summaryExploitName\", \"N/A\")\n",
    "            \n",
    "            eventList = []\n",
    "            \n",
    "            for check in range(len(json_data[\"fileAnalysisResults\"][0][\"events\"])):\n",
    "                eventList.append(json_data[\"fileAnalysisResults\"][0][\"events\"][check][\"Name\"])                \n",
    "                data[\"event\"] = eventList\n",
    "                \n",
    "                data[\"event_\" + str(check)] = json_data[\"fileAnalysisResults\"][0][\"events\"][check][\"Name\"]\n",
    "                \n",
    "                #print(data.keys())\n",
    "                \n",
    "        write.writerow(data)\n",
    "        \n",
    "        # value 값 초기화\n",
    "        for keys in data.keys():\n",
    "            data[keys] = \"\"\n",
    "            \n",
    "    #write = csv.DictWriter(csv_file, fieldnames = data.keys())\n",
    "    #write.writeheader()\n",
    "            \n",
    "csv_file.close()"
   ]
  },
  {
   "cell_type": "code",
   "execution_count": null,
   "id": "fossil-plaintiff",
   "metadata": {},
   "outputs": [],
   "source": []
  },
  {
   "cell_type": "code",
   "execution_count": null,
   "id": "cross-serve",
   "metadata": {},
   "outputs": [],
   "source": []
  }
 ],
 "metadata": {
  "kernelspec": {
   "display_name": "Python 3 (ipykernel)",
   "language": "python",
   "name": "python3"
  },
  "language_info": {
   "codemirror_mode": {
    "name": "ipython",
    "version": 3
   },
   "file_extension": ".py",
   "mimetype": "text/x-python",
   "name": "python",
   "nbconvert_exporter": "python",
   "pygments_lexer": "ipython3",
   "version": "3.7.9"
  },
  "toc": {
   "base_numbering": 1,
   "nav_menu": {},
   "number_sections": true,
   "sideBar": true,
   "skip_h1_title": false,
   "title_cell": "Table of Contents",
   "title_sidebar": "Contents",
   "toc_cell": false,
   "toc_position": {},
   "toc_section_display": true,
   "toc_window_display": false
  },
  "varInspector": {
   "cols": {
    "lenName": 16,
    "lenType": 16,
    "lenVar": 40
   },
   "kernels_config": {
    "python": {
     "delete_cmd_postfix": "",
     "delete_cmd_prefix": "del ",
     "library": "var_list.py",
     "varRefreshCmd": "print(var_dic_list())"
    },
    "r": {
     "delete_cmd_postfix": ") ",
     "delete_cmd_prefix": "rm(",
     "library": "var_list.r",
     "varRefreshCmd": "cat(var_dic_list()) "
    }
   },
   "types_to_exclude": [
    "module",
    "function",
    "builtin_function_or_method",
    "instance",
    "_Feature"
   ],
   "window_display": false
  }
 },
 "nbformat": 4,
 "nbformat_minor": 5
}
