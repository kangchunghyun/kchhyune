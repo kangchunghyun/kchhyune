{
 "cells": [
  {
   "cell_type": "code",
   "execution_count": 1,
   "id": "8020e196",
   "metadata": {},
   "outputs": [],
   "source": [
    "import magic\n",
    "\n",
    "def check_mimetype(filename):\n",
    "    mime = magic.Magic(mime=True)\n",
    "    mime_type = mime.from_file(filename)\n",
    "    print(f\"MIME type of {filename}: {mime_type}\")"
   ]
  },
  {
   "cell_type": "code",
   "execution_count": 3,
   "id": "244976c3",
   "metadata": {},
   "outputs": [
    {
     "name": "stdout",
     "output_type": "stream",
     "text": [
      "Enter the filename: D:\\01_Sample\\CDR\\5.0.0\\F4V\\output_video.f4v\n",
      "MIME type of D:\\01_Sample\\CDR\\5.0.0\\F4V\\output_video.f4v: application/octet-stream\n"
     ]
    }
   ],
   "source": [
    "if __name__ == \"__main__\":\n",
    "    filename = input(\"Enter the filename: \")\n",
    "    check_mimetype(filename)"
   ]
  },
  {
   "cell_type": "code",
   "execution_count": 4,
   "id": "819f0f4c",
   "metadata": {},
   "outputs": [
    {
     "data": {
      "text/plain": [
       "(None, None)"
      ]
     },
     "execution_count": 4,
     "metadata": {},
     "output_type": "execute_result"
    }
   ],
   "source": [
    "mimetypes.guess_type(filename)"
   ]
  },
  {
   "cell_type": "code",
   "execution_count": null,
   "id": "89d4056d",
   "metadata": {},
   "outputs": [],
   "source": []
  }
 ],
 "metadata": {
  "kernelspec": {
   "display_name": "Python 3 (ipykernel)",
   "language": "python",
   "name": "python3"
  },
  "language_info": {
   "codemirror_mode": {
    "name": "ipython",
    "version": 3
   },
   "file_extension": ".py",
   "mimetype": "text/x-python",
   "name": "python",
   "nbconvert_exporter": "python",
   "pygments_lexer": "ipython3",
   "version": "3.7.9"
  }
 },
 "nbformat": 4,
 "nbformat_minor": 5
}
