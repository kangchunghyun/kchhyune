{
 "cells": [
  {
   "cell_type": "code",
   "execution_count": 5,
   "id": "660483ac",
   "metadata": {},
   "outputs": [],
   "source": [
    "import zipfile\n",
    "import hashlib\n",
    "import csv\n",
    "import os"
   ]
  },
  {
   "cell_type": "code",
   "execution_count": 1,
   "id": "f99fd287",
   "metadata": {},
   "outputs": [
    {
     "name": "stdout",
     "output_type": "stream",
     "text": [
      "jar 파일 경로와 이름을 입력하세요. : \\\\192.168.2.21\\Package\\빌드 형상 관리\\MASR CDR\\v5.0.1\\cdr-5.0.1.1.43.slcp\n",
      "jar 파일 경로와 이름을 입력하세요. : \\\\192.168.2.21\\Package\\빌드 형상 관리\\MASR CDR\\v5.0.1\\cdr-5.0.1.2.44.slcp\n"
     ]
    }
   ],
   "source": [
    "# jar 파일을 압축을 해지합니다.\n",
    "jarPaths = []\n",
    "\n",
    "for i in range(2):\n",
    "    inputDir = input(\"jar 파일 경로와 이름을 입력하세요. : \")\n",
    "    jarPaths.append(inputDir)"
   ]
  },
  {
   "cell_type": "code",
   "execution_count": 7,
   "id": "76b6b2e9",
   "metadata": {},
   "outputs": [],
   "source": [
    "password = b\"b002cd031989a8118aab022d74616efd5718f399\""
   ]
  },
  {
   "cell_type": "code",
   "execution_count": 2,
   "id": "bc3f6f11",
   "metadata": {},
   "outputs": [],
   "source": [
    "# Function to compute the hash of file contents\n",
    "def compute_hash(file, algorithm=\"sha256\"):\n",
    "    hash_func = hashlib.new(algorithm)\n",
    "    hash_func.update(file.read())\n",
    "    return hash_func.hexdigest()"
   ]
  },
  {
   "cell_type": "code",
   "execution_count": 15,
   "id": "162c2e0b",
   "metadata": {},
   "outputs": [],
   "source": [
    "# 압축 파일내에 HASH 값을 계산하고 CSV 파일로 저장합니다. \n",
    "def get_file_hashes(jar_path):\n",
    "    file_hashes = {}\n",
    "    filePath, fileName = os.path.split(jar_path)\n",
    "        \n",
    "    with open(filePath + \"\\\\\" + fileName + \".csv\", mode = \"w\", newline='') as csvfile:\n",
    "        writer = csv.writer(csvfile)\n",
    "        writer.writerow(['jar File', 'File Name', 'Hash Value'])\n",
    "        \n",
    "        with zipfile.ZipFile(jar_path, 'r') as package:\n",
    "            for file_name in package.namelist():\n",
    "                if not file_name.endswith(\"/\"):  # Skip directories\n",
    "                    with package.open(file_name, pwd=password) as file:\n",
    "                        # Compute and store the hash\n",
    "                        print(file_name)\n",
    "                        file_hashes[file_name] = compute_hash(file)\n",
    "                        writer.writerow([jarPaths[i], file_name, file_hashes[file_name]])\n",
    "                                \n",
    "    return file_hashes"
   ]
  },
  {
   "cell_type": "code",
   "execution_count": 16,
   "id": "bbd7f197",
   "metadata": {},
   "outputs": [
    {
     "name": "stdout",
     "output_type": "stream",
     "text": [
      "cdr-5.0.1.1.jar\n",
      "cdr-5.0.1.2.jar\n"
     ]
    }
   ],
   "source": [
    "# Get file hashes from both .jar files\n",
    "hashes_jar1 = get_file_hashes(jarPaths[0])\n",
    "hashes_jar2 = get_file_hashes(jarPaths[1])"
   ]
  },
  {
   "cell_type": "code",
   "execution_count": 10,
   "id": "cb20eb0d",
   "metadata": {},
   "outputs": [
    {
     "name": "stdout",
     "output_type": "stream",
     "text": [
      "결과 csv 저장할 경로와 파일명을 입력하세요.D:\\04_Test\\CDR\\v5.0.1.2_AB_Test.csv\n"
     ]
    }
   ],
   "source": [
    "outputCsv = input(\"결과 csv 저장할 경로와 파일명을 입력하세요.\")"
   ]
  },
  {
   "cell_type": "code",
   "execution_count": 11,
   "id": "b840befa",
   "metadata": {},
   "outputs": [
    {
     "name": "stdout",
     "output_type": "stream",
     "text": [
      "File 'cdr-5.0.1.1.jar' is only present in \\\\192.168.2.21\\Package\\빌드 형상 관리\\MASR CDR\\v5.0.1\\cdr-5.0.1.1.43.slcp.\n",
      "  Hash: 92fd9e24eb82f99b435ebf256badcafa2b6f48a162ccf63b447020574142b9e4\n",
      "File 'cdr-5.0.1.2.jar' is only present in \\\\192.168.2.21\\Package\\빌드 형상 관리\\MASR CDR\\v5.0.1\\cdr-5.0.1.2.44.slcp.\n",
      "  Hash: 053179b0734906d3609d6125ff2bc1d01c27726dca2076ac1196b65b58607892\n"
     ]
    }
   ],
   "source": [
    "# Compare the hashes of files in both .jar files\n",
    "with open(outputCsv, \"w\", newline='') as csvfile:\n",
    "    writer = csv.writer(csvfile)\n",
    "    writer.writerow(['file_name', jarPaths[0], jarPaths[1]])\n",
    "    \n",
    "    for file_name in hashes_jar1:\n",
    "        if file_name in hashes_jar2:\n",
    "            if hashes_jar1[file_name] != hashes_jar2[file_name]:\n",
    "                writer.writerow([file_name, hashes_jar1[file_name], hashes_jar2[file_name]])\n",
    "                # Print file name and hash values if they differ\n",
    "                print(f\"File '{file_name}' differs between the jars.\")\n",
    "                print(f\"  Hash in {jarPaths[0]}: {hashes_jar1[file_name]}\")\n",
    "                print(f\"  Hash in {jarPaths[1]}: {hashes_jar2[file_name]}\")\n",
    "        else:\n",
    "            # Print file name and hash value if it's only in the first jar\n",
    "            writer.writerow([file_name, hashes_jar1[file_name], \"-\"])\n",
    "            print(f\"File '{file_name}' is only present in {jarPaths[0]}.\")\n",
    "            print(f\"  Hash: {hashes_jar1[file_name]}\")\n",
    "\n",
    "    # Check for files in the second jar that are not in the first jar\n",
    "    for file_name in hashes_jar2:\n",
    "        if file_name not in hashes_jar1:\n",
    "            # Print file name and hash value if it's only in the second jar\n",
    "            writer.writerow([file_name, \"-\", hashes_jar2[file_name]])\n",
    "            print(f\"File '{file_name}' is only present in {jarPaths[1]}.\")\n",
    "            print(f\"  Hash: {hashes_jar2[file_name]}\")\n"
   ]
  },
  {
   "cell_type": "code",
   "execution_count": 14,
   "id": "e94335ce",
   "metadata": {},
   "outputs": [
    {
     "ename": "TypeError",
     "evalue": "__init__() got an unexpected keyword argument 'pwd'",
     "output_type": "error",
     "traceback": [
      "\u001b[1;31m---------------------------------------------------------------------------\u001b[0m",
      "\u001b[1;31mTypeError\u001b[0m                                 Traceback (most recent call last)",
      "\u001b[1;32m~\\AppData\\Local\\Temp\\ipykernel_28652\\3176128618.py\u001b[0m in \u001b[0;36m<module>\u001b[1;34m\u001b[0m\n\u001b[0;32m      8\u001b[0m         \u001b[0mwriter\u001b[0m\u001b[1;33m.\u001b[0m\u001b[0mwriterow\u001b[0m\u001b[1;33m(\u001b[0m\u001b[1;33m[\u001b[0m\u001b[1;34m'jar File'\u001b[0m\u001b[1;33m,\u001b[0m \u001b[1;34m'File Name'\u001b[0m\u001b[1;33m,\u001b[0m \u001b[1;34m'Hash Value'\u001b[0m\u001b[1;33m]\u001b[0m\u001b[1;33m)\u001b[0m\u001b[1;33m\u001b[0m\u001b[1;33m\u001b[0m\u001b[0m\n\u001b[0;32m      9\u001b[0m \u001b[1;33m\u001b[0m\u001b[0m\n\u001b[1;32m---> 10\u001b[1;33m         \u001b[1;32mwith\u001b[0m \u001b[0mzipfile\u001b[0m\u001b[1;33m.\u001b[0m\u001b[0mZipFile\u001b[0m\u001b[1;33m(\u001b[0m\u001b[0mjarPaths\u001b[0m\u001b[1;33m[\u001b[0m\u001b[0mi\u001b[0m\u001b[1;33m]\u001b[0m\u001b[1;33m,\u001b[0m \u001b[1;34m'r'\u001b[0m\u001b[1;33m,\u001b[0m \u001b[0mpwd\u001b[0m\u001b[1;33m=\u001b[0m\u001b[0mpassword\u001b[0m\u001b[1;33m)\u001b[0m \u001b[1;32mas\u001b[0m \u001b[0mjar\u001b[0m\u001b[1;33m:\u001b[0m\u001b[1;33m\u001b[0m\u001b[1;33m\u001b[0m\u001b[0m\n\u001b[0m\u001b[0;32m     11\u001b[0m             \u001b[1;32mfor\u001b[0m \u001b[0mfile_name\u001b[0m \u001b[1;32min\u001b[0m \u001b[0mjar\u001b[0m\u001b[1;33m.\u001b[0m\u001b[0mnamelist\u001b[0m\u001b[1;33m(\u001b[0m\u001b[1;33m)\u001b[0m\u001b[1;33m:\u001b[0m\u001b[1;33m\u001b[0m\u001b[1;33m\u001b[0m\u001b[0m\n\u001b[0;32m     12\u001b[0m                 \u001b[1;32mif\u001b[0m \u001b[1;32mnot\u001b[0m \u001b[0mfile_name\u001b[0m\u001b[1;33m.\u001b[0m\u001b[0mendswith\u001b[0m\u001b[1;33m(\u001b[0m\u001b[1;34m\"/\"\u001b[0m\u001b[1;33m)\u001b[0m\u001b[1;33m:\u001b[0m\u001b[1;33m\u001b[0m\u001b[1;33m\u001b[0m\u001b[0m\n",
      "\u001b[1;31mTypeError\u001b[0m: __init__() got an unexpected keyword argument 'pwd'"
     ]
    }
   ],
   "source": [
    "# CSV 파일에 대상, 내부 파일명, Hash 값 저장하기\n",
    "for i in range(2):\n",
    "    filePath, fileName = os.path.split(jarPaths[i])\n",
    "    \n",
    "    with open(filePath + \"\\\\\" + fileName + \".csv\", mode = \"w\", newline='') as csvfile:\n",
    "        writer = csv.writer(csvfile)\n",
    "        \n",
    "        writer.writerow(['jar File', 'File Name', 'Hash Value'])\n",
    "        \n",
    "        with zipfile.ZipFile(jarPaths[i], 'r') as jar:\n",
    "            for file_name in jar.namelist():\n",
    "                if not file_name.endswith(\"/\"):\n",
    "                      with jar.open(file_name) as file:\n",
    "                            file_hash = compute_hash(file, algorithm=\"sha256\")\n",
    "                            writer.writerow([jarPaths[i], file_name, file_hash])"
   ]
  },
  {
   "cell_type": "code",
   "execution_count": 1,
   "id": "138933f1",
   "metadata": {},
   "outputs": [
    {
     "ename": "NameError",
     "evalue": "name 'hashes_jar1' is not defined",
     "output_type": "error",
     "traceback": [
      "\u001b[1;31m---------------------------------------------------------------------------\u001b[0m",
      "\u001b[1;31mNameError\u001b[0m                                 Traceback (most recent call last)",
      "\u001b[1;32m~\\AppData\\Local\\Temp\\ipykernel_6868\\1044142478.py\u001b[0m in \u001b[0;36m<module>\u001b[1;34m\u001b[0m\n\u001b[1;32m----> 1\u001b[1;33m \u001b[0mprint\u001b[0m\u001b[1;33m(\u001b[0m\u001b[0mhashes_jar1\u001b[0m\u001b[1;33m)\u001b[0m\u001b[1;33m\u001b[0m\u001b[1;33m\u001b[0m\u001b[0m\n\u001b[0m",
      "\u001b[1;31mNameError\u001b[0m: name 'hashes_jar1' is not defined"
     ]
    }
   ],
   "source": []
  },
  {
   "cell_type": "code",
   "execution_count": null,
   "id": "9006a850",
   "metadata": {},
   "outputs": [],
   "source": []
  }
 ],
 "metadata": {
  "kernelspec": {
   "display_name": "Python 3 (ipykernel)",
   "language": "python",
   "name": "python3"
  },
  "language_info": {
   "codemirror_mode": {
    "name": "ipython",
    "version": 3
   },
   "file_extension": ".py",
   "mimetype": "text/x-python",
   "name": "python",
   "nbconvert_exporter": "python",
   "pygments_lexer": "ipython3",
   "version": "3.7.9"
  }
 },
 "nbformat": 4,
 "nbformat_minor": 5
}
