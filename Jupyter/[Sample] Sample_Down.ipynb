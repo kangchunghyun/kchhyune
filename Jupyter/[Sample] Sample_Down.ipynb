{
 "cells": [
  {
   "cell_type": "code",
   "execution_count": 1,
   "id": "ca8108ee",
   "metadata": {},
   "outputs": [],
   "source": [
    "import requests"
   ]
  },
  {
   "cell_type": "code",
   "execution_count": 2,
   "id": "6c3d7127",
   "metadata": {},
   "outputs": [],
   "source": [
    "# Replace 'YOUR_API_KEY' with your actual VirusTotal API key\n",
    "API_KEY = '5da9adc98144a02a8eb36f6b3d14dc09048ac688291fee7fa28faa5c9b1382b1'"
   ]
  },
  {
   "cell_type": "code",
   "execution_count": 3,
   "id": "9b41feee",
   "metadata": {},
   "outputs": [],
   "source": [
    "def get_file_report(resource):\n",
    "    url = f\"https://www.virustotal.com/vtapi/v2/file/report\"\n",
    "    params = {'apikey': API_KEY, 'resource': resource}\n",
    "    response = requests.get(url, params=params)\n",
    "    return response.json()"
   ]
  },
  {
   "cell_type": "code",
   "execution_count": 4,
   "id": "5c021f10",
   "metadata": {},
   "outputs": [],
   "source": [
    "def download_file(hash_value):\n",
    "    url = f\"https://www.virustotal.com/vtapi/v2/file/download\"\n",
    "    params = {'apikey': API_KEY, 'hash': hash_value}\n",
    "    response = requests.get(url, params=params, stream=True)\n",
    "    \n",
    "    if response.status_code == 200:\n",
    "        file_name = f\"{hash_value}.sample\"\n",
    "        with open(file_name, 'wb') as file:\n",
    "            for chunk in response.iter_content(chunk_size=1024):\n",
    "                if chunk:\n",
    "                    file.write(chunk)\n",
    "        print(f\"File downloaded successfully and saved as {file_name}\")\n",
    "    else:\n",
    "        print(f\"Failed to download file. Status code: {response.status_code}\")\n",
    "        print(response.json())"
   ]
  },
  {
   "cell_type": "code",
   "execution_count": 6,
   "id": "b4cb1b5c",
   "metadata": {},
   "outputs": [],
   "source": [
    "def main():\n",
    "    # Example hash value of a file to download\n",
    "    hash_value = 'f6bab367932a99ac79289df9139c68f2'\n",
    "\n",
    "    # Get the file report to ensure the file exists and is safe to download\n",
    "    report = get_file_report(hash_value)\n",
    "    if report['response_code'] == 1:\n",
    "        print(f\"File report for {hash_value}:\")\n",
    "        print(report)\n",
    "        # Download the file\n",
    "        download_file(hash_value)\n",
    "    else:\n",
    "        print(f\"No report found for {hash_value}. Cannot download the file.\")"
   ]
  },
  {
   "cell_type": "code",
   "execution_count": 7,
   "id": "21c623dc",
   "metadata": {},
   "outputs": [
    {
     "name": "stdout",
     "output_type": "stream",
     "text": [
      "File report for f6bab367932a99ac79289df9139c68f2:\n",
      "{'md5': 'f6bab367932a99ac79289df9139c68f2', 'permalink': 'https://www.virustotal.com/gui/file/3ac6b5be53b3d1f6cff8706168bc8cd4c7774f5bd82959c1f2186106efea59e8/detection/f-3ac6b5be53b3d1f6cff8706168bc8cd4c7774f5bd82959c1f2186106efea59e8-1591495366', 'positives': 36, 'resource': 'f6bab367932a99ac79289df9139c68f2', 'response_code': 1, 'scan_date': '2020-06-07 02:02:46', 'scan_id': '3ac6b5be53b3d1f6cff8706168bc8cd4c7774f5bd82959c1f2186106efea59e8-1591495366', 'scans': {'ALYac': {'detected': True, 'result': 'Exploit.MSOffice.Gen', 'update': '20200606', 'version': '1.1.1.5'}, 'AVG': {'detected': True, 'result': 'Other:Malware-gen [Trj]', 'update': '20200606', 'version': '18.4.3895.0'}, 'Ad-Aware': {'detected': False, 'result': None, 'update': '20200606', 'version': '3.0.5.370'}, 'AhnLab-V3': {'detected': True, 'result': 'PDF/Dropper', 'update': '20200606', 'version': '3.17.6.27456'}, 'Antiy-AVL': {'detected': True, 'result': 'Trojan[Downloader]/MSWord.Agent.rels', 'update': '20200607', 'version': '3.0.0.1'}, 'Arcabit': {'detected': True, 'result': 'Exploit.CVE-2017-0199.Gen', 'update': '20200607', 'version': '1.0.0.875'}, 'Avast': {'detected': True, 'result': 'Other:Malware-gen [Trj]', 'update': '20200606', 'version': '18.4.3895.0'}, 'Avast-Mobile': {'detected': False, 'result': None, 'update': '20200605', 'version': '200605-00'}, 'Avira': {'detected': True, 'result': 'HTML/ExpKit.Gen2', 'update': '20200607', 'version': '8.3.3.8'}, 'Baidu': {'detected': True, 'result': 'Multi.Threats.InArchive', 'update': '20190318', 'version': '1.0.0.2'}, 'BitDefender': {'detected': True, 'result': 'Exploit.CVE-2017-0199.Gen', 'update': '20200607', 'version': '7.2'}, 'BitDefenderTheta': {'detected': False, 'result': None, 'update': '20200603', 'version': '7.2.37796.0'}, 'Bkav': {'detected': False, 'result': None, 'update': '20200606', 'version': '1.3.0.9899'}, 'CAT-QuickHeal': {'detected': True, 'result': 'XML.Downloader.31348.GC', 'update': '20200606', 'version': '14.00'}, 'CMC': {'detected': False, 'result': None, 'update': '20190321', 'version': '1.1.0.977'}, 'ClamAV': {'detected': False, 'result': None, 'update': '20200606', 'version': '0.102.3.0'}, 'Comodo': {'detected': True, 'result': 'Malware@#3i8q9urtyncov', 'update': '20200606', 'version': '32512'}, 'Cylance': {'detected': False, 'result': None, 'update': '20200607', 'version': '2.3.1.101'}, 'Cyren': {'detected': True, 'result': 'DOCX/CVE-2017-0199!Camelot', 'update': '20200606', 'version': '6.3.0.2'}, 'DrWeb': {'detected': True, 'result': 'Exploit.CVE-2017-0199.19', 'update': '20200606', 'version': '7.0.46.3050'}, 'ESET-NOD32': {'detected': True, 'result': 'a variant of Generik.ISFSIVH', 'update': '20200607', 'version': '21451'}, 'Emsisoft': {'detected': True, 'result': 'Exploit.CVE-2017-0199.Gen (B)', 'update': '20200605', 'version': '2018.12.0.1641'}, 'F-Prot': {'detected': False, 'result': None, 'update': '20200607', 'version': '4.7.1.166'}, 'F-Secure': {'detected': True, 'result': 'Malware.HTML/ExpKit.Gen2', 'update': '20200606', 'version': '12.0.86.52'}, 'FireEye': {'detected': True, 'result': 'Exploit.CVE-2017-0199.Gen', 'update': '20200607', 'version': '32.31.0.0'}, 'Fortinet': {'detected': True, 'result': 'MSOffice/Agent.CF!tr.dldr', 'update': '20200607', 'version': '6.2.142.0'}, 'GData': {'detected': True, 'result': 'Exploit.CVE-2017-0199.Gen', 'update': '20200607', 'version': 'A:25.25851B:27.19000'}, 'Ikarus': {'detected': True, 'result': 'Exploit.CVE-2017-11882', 'update': '20200606', 'version': '0.1.5.2'}, 'Jiangmin': {'detected': False, 'result': None, 'update': '20200607', 'version': '16.0.100'}, 'K7AntiVirus': {'detected': False, 'result': None, 'update': '20200606', 'version': '11.113.34329'}, 'K7GW': {'detected': False, 'result': None, 'update': '20200606', 'version': '11.113.34329'}, 'Kaspersky': {'detected': True, 'result': 'HEUR:Exploit.MSOffice.Generic', 'update': '20200607', 'version': '15.0.1.13'}, 'Kingsoft': {'detected': False, 'result': None, 'update': '20200607', 'version': '2013.8.14.323'}, 'MAX': {'detected': True, 'result': 'malware (ai score=96)', 'update': '20200607', 'version': '2019.9.16.1'}, 'Malwarebytes': {'detected': False, 'result': None, 'update': '20200607', 'version': '3.6.4.335'}, 'MaxSecure': {'detected': False, 'result': None, 'update': '20200606', 'version': '1.0.0.1'}, 'McAfee': {'detected': True, 'result': 'PDF-Exploit!F6BAB367932A', 'update': '20200607', 'version': '6.0.6.653'}, 'MicroWorld-eScan': {'detected': False, 'result': None, 'update': '20200607', 'version': '14.0.409.0'}, 'Microsoft': {'detected': False, 'result': None, 'update': '20200607', 'version': '1.1.17100.2'}, 'NANO-Antivirus': {'detected': True, 'result': 'Trojan.Script.Dropper.eszsqk', 'update': '20200607', 'version': '1.0.134.25112'}, 'Panda': {'detected': False, 'result': None, 'update': '20200606', 'version': '4.6.4.2'}, 'Qihoo-360': {'detected': True, 'result': 'Generic/Trojan.Exploit.ed7', 'update': '20200607', 'version': '1.0.0.1120'}, 'Rising': {'detected': False, 'result': None, 'update': '20200607', 'version': '25.0.0.25'}, 'SUPERAntiSpyware': {'detected': False, 'result': None, 'update': '20200606', 'version': '5.6.0.1032'}, 'Sangfor': {'detected': True, 'result': 'Malware', 'update': '20200423', 'version': '1.0'}, 'SentinelOne': {'detected': True, 'result': 'DFI - Malicious PDF', 'update': '20200601', 'version': '4.3.0.105'}, 'Sophos': {'detected': True, 'result': 'Troj/20170199-P', 'update': '20200607', 'version': '4.98.0'}, 'Symantec': {'detected': True, 'result': 'W97M.Downloader', 'update': '20200606', 'version': '1.11.0.0'}, 'TACHYON': {'detected': True, 'result': 'Suspicious/PDF.Downloader.Gen', 'update': '20200607', 'version': '2020-06-07.01'}, 'Tencent': {'detected': True, 'result': 'Office.Exploit.Generic.Eera', 'update': '20200607', 'version': '1.0.0.1'}, 'TotalDefense': {'detected': False, 'result': None, 'update': '20200601', 'version': '37.1.62.1'}, 'TrendMicro': {'detected': True, 'result': 'TROJ_FRS.VSN10E18', 'update': '20200606', 'version': '11.0.0.1006'}, 'TrendMicro-HouseCall': {'detected': True, 'result': 'TROJ_FRS.VSN10E18', 'update': '20200606', 'version': '10.0.0.1040'}, 'VBA32': {'detected': False, 'result': None, 'update': '20200605', 'version': '4.4.1'}, 'VIPRE': {'detected': False, 'result': None, 'update': '20200606', 'version': '84278'}, 'ViRobot': {'detected': True, 'result': 'PDF.S.Agent.31652', 'update': '20200606', 'version': '2014.3.20.0'}, 'Yandex': {'detected': False, 'result': None, 'update': '20200606', 'version': '5.5.2.24'}, 'Zillya': {'detected': False, 'result': None, 'update': '20200606', 'version': '2.0.0.4105'}, 'ZoneAlarm': {'detected': True, 'result': 'HEUR:Trojan-Dropper.PDF.Generic', 'update': '20200606', 'version': '1.0'}, 'Zoner': {'detected': True, 'result': 'Probably Heur.PDFEmbed', 'update': '20200607', 'version': '0.0.0.0'}}, 'sha1': '36741cb78f7379b052f7efdce89fdcda4e9e0987', 'sha256': '3ac6b5be53b3d1f6cff8706168bc8cd4c7774f5bd82959c1f2186106efea59e8', 'total': 60, 'verbose_msg': 'Scan finished, information embedded'}\n",
      "File downloaded successfully and saved as f6bab367932a99ac79289df9139c68f2.sample\n"
     ]
    }
   ],
   "source": [
    "if __name__ == \"__main__\":\n",
    "    main()"
   ]
  },
  {
   "cell_type": "code",
   "execution_count": null,
   "id": "a13f5a10",
   "metadata": {},
   "outputs": [],
   "source": []
  }
 ],
 "metadata": {
  "kernelspec": {
   "display_name": "Python 3 (ipykernel)",
   "language": "python",
   "name": "python3"
  },
  "language_info": {
   "codemirror_mode": {
    "name": "ipython",
    "version": 3
   },
   "file_extension": ".py",
   "mimetype": "text/x-python",
   "name": "python",
   "nbconvert_exporter": "python",
   "pygments_lexer": "ipython3",
   "version": "3.7.9"
  }
 },
 "nbformat": 4,
 "nbformat_minor": 5
}
