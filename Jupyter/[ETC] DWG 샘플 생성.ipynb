{
 "cells": [
  {
   "cell_type": "code",
   "execution_count": 17,
   "id": "d9cec814",
   "metadata": {
    "ExecuteTime": {
     "end_time": "2024-12-12T02:13:42.545353Z",
     "start_time": "2024-12-12T02:13:42.527978Z"
    }
   },
   "outputs": [],
   "source": [
    "import ezdxf"
   ]
  },
  {
   "cell_type": "code",
   "execution_count": 18,
   "id": "412c7e42",
   "metadata": {
    "ExecuteTime": {
     "end_time": "2024-12-12T02:13:45.976905Z",
     "start_time": "2024-12-12T02:13:45.973879Z"
    }
   },
   "outputs": [],
   "source": [
    "def create_dxf_with_macro(file_path):\n",
    "    doc = ezdxf.new('R2010')\n",
    "    msp = doc.modelspace()\n",
    "    msp.add_line((0, 0), (10, 0))\n",
    "    \n",
    "    # 텍스트 객체로 매크로 코드 삽입\n",
    "    macro_code = \"(defun C:HELLO () (alert 'Hello, AutoCAD!'))\"\n",
    "    msp.add_text(macro_code, dxfattribs={'insert': (0, -1)})\n",
    "\n",
    "    doc.saveas(file_path)"
   ]
  },
  {
   "cell_type": "code",
   "execution_count": 19,
   "id": "60fdbe05",
   "metadata": {
    "ExecuteTime": {
     "end_time": "2024-12-12T02:13:46.763042Z",
     "start_time": "2024-12-12T02:13:46.750152Z"
    }
   },
   "outputs": [],
   "source": [
    "def convert_dxf_to_dwg(dxf_file_path, dwg_file_path):\n",
    "    doc = ezdxf.readfile(dxf_file_path)\n",
    "    doc.save(dwg_file_path)"
   ]
  },
  {
   "cell_type": "code",
   "execution_count": 20,
   "id": "06966c62",
   "metadata": {
    "ExecuteTime": {
     "end_time": "2024-12-12T02:13:53.197136Z",
     "start_time": "2024-12-12T02:13:51.038952Z"
    }
   },
   "outputs": [
    {
     "name": "stdout",
     "output_type": "stream",
     "text": [
      "파일 경로D:\\01_Sample\\test.dxf\n"
     ]
    }
   ],
   "source": [
    "# 사용 예시\n",
    "dwgdir = input(\"파일 경로\")"
   ]
  },
  {
   "cell_type": "code",
   "execution_count": 21,
   "id": "62f6b234",
   "metadata": {
    "ExecuteTime": {
     "end_time": "2024-12-12T02:13:59.301647Z",
     "start_time": "2024-12-12T02:13:54.558451Z"
    }
   },
   "outputs": [
    {
     "name": "stdout",
     "output_type": "stream",
     "text": [
      "파일 경로: D:\\01_Sample\\test.dwg\n"
     ]
    }
   ],
   "source": [
    "outputdir = input(\"파일 경로: \")"
   ]
  },
  {
   "cell_type": "code",
   "execution_count": 25,
   "id": "e8465888",
   "metadata": {
    "ExecuteTime": {
     "end_time": "2024-12-12T02:14:50.827129Z",
     "start_time": "2024-12-12T02:14:50.814563Z"
    }
   },
   "outputs": [],
   "source": [
    "create_dxf_with_macro(dwgdir)"
   ]
  },
  {
   "cell_type": "code",
   "execution_count": 24,
   "id": "0172d1d8",
   "metadata": {
    "ExecuteTime": {
     "end_time": "2024-12-12T02:14:41.385881Z",
     "start_time": "2024-12-12T02:14:41.367547Z"
    }
   },
   "outputs": [
    {
     "ename": "OSError",
     "evalue": "File 'D:\\01_Sample\\test.dxf' is not a DXF file.",
     "output_type": "error",
     "traceback": [
      "\u001b[1;31m---------------------------------------------------------------------------\u001b[0m",
      "\u001b[1;31mOSError\u001b[0m                                   Traceback (most recent call last)",
      "\u001b[1;32m~\\AppData\\Local\\Temp\\ipykernel_27428\\871459033.py\u001b[0m in \u001b[0;36m<module>\u001b[1;34m\u001b[0m\n\u001b[0;32m      1\u001b[0m \u001b[1;31m# 사용 예시\u001b[0m\u001b[1;33m\u001b[0m\u001b[1;33m\u001b[0m\u001b[1;33m\u001b[0m\u001b[0m\n\u001b[1;32m----> 2\u001b[1;33m \u001b[0mconvert_dxf_to_dwg\u001b[0m\u001b[1;33m(\u001b[0m\u001b[0mdwgdir\u001b[0m\u001b[1;33m,\u001b[0m \u001b[0moutputdir\u001b[0m\u001b[1;33m)\u001b[0m\u001b[1;33m\u001b[0m\u001b[1;33m\u001b[0m\u001b[0m\n\u001b[0m",
      "\u001b[1;32m~\\AppData\\Local\\Temp\\ipykernel_27428\\2073482673.py\u001b[0m in \u001b[0;36mconvert_dxf_to_dwg\u001b[1;34m(dxf_file_path, dwg_file_path)\u001b[0m\n\u001b[0;32m      1\u001b[0m \u001b[1;32mdef\u001b[0m \u001b[0mconvert_dxf_to_dwg\u001b[0m\u001b[1;33m(\u001b[0m\u001b[0mdxf_file_path\u001b[0m\u001b[1;33m,\u001b[0m \u001b[0mdwg_file_path\u001b[0m\u001b[1;33m)\u001b[0m\u001b[1;33m:\u001b[0m\u001b[1;33m\u001b[0m\u001b[1;33m\u001b[0m\u001b[0m\n\u001b[1;32m----> 2\u001b[1;33m     \u001b[0mdoc\u001b[0m \u001b[1;33m=\u001b[0m \u001b[0mezdxf\u001b[0m\u001b[1;33m.\u001b[0m\u001b[0mreadfile\u001b[0m\u001b[1;33m(\u001b[0m\u001b[0mdxf_file_path\u001b[0m\u001b[1;33m)\u001b[0m\u001b[1;33m\u001b[0m\u001b[1;33m\u001b[0m\u001b[0m\n\u001b[0m\u001b[0;32m      3\u001b[0m     \u001b[0mdoc\u001b[0m\u001b[1;33m.\u001b[0m\u001b[0msave\u001b[0m\u001b[1;33m(\u001b[0m\u001b[0mdwg_file_path\u001b[0m\u001b[1;33m)\u001b[0m\u001b[1;33m\u001b[0m\u001b[1;33m\u001b[0m\u001b[0m\n",
      "\u001b[1;32mc:\\users\\kchhy\\appdata\\local\\programs\\python\\python37\\lib\\site-packages\\ezdxf\\filemanagement.py\u001b[0m in \u001b[0;36mreadfile\u001b[1;34m(filename, encoding, errors)\u001b[0m\n\u001b[0;32m    144\u001b[0m \u001b[1;33m\u001b[0m\u001b[0m\n\u001b[0;32m    145\u001b[0m     \u001b[1;32mif\u001b[0m \u001b[1;32mnot\u001b[0m \u001b[0mis_dxf_file\u001b[0m\u001b[1;33m(\u001b[0m\u001b[0mfilename\u001b[0m\u001b[1;33m)\u001b[0m\u001b[1;33m:\u001b[0m\u001b[1;33m\u001b[0m\u001b[1;33m\u001b[0m\u001b[0m\n\u001b[1;32m--> 146\u001b[1;33m         \u001b[1;32mraise\u001b[0m \u001b[0mIOError\u001b[0m\u001b[1;33m(\u001b[0m\u001b[1;34mf\"File '{filename}' is not a DXF file.\"\u001b[0m\u001b[1;33m)\u001b[0m\u001b[1;33m\u001b[0m\u001b[1;33m\u001b[0m\u001b[0m\n\u001b[0m\u001b[0;32m    147\u001b[0m \u001b[1;33m\u001b[0m\u001b[0m\n\u001b[0;32m    148\u001b[0m     \u001b[0minfo\u001b[0m \u001b[1;33m=\u001b[0m \u001b[0mdxf_file_info\u001b[0m\u001b[1;33m(\u001b[0m\u001b[0mfilename\u001b[0m\u001b[1;33m)\u001b[0m\u001b[1;33m\u001b[0m\u001b[1;33m\u001b[0m\u001b[0m\n",
      "\u001b[1;31mOSError\u001b[0m: File 'D:\\01_Sample\\test.dxf' is not a DXF file."
     ]
    }
   ],
   "source": [
    "# 사용 예시\n",
    "convert_dxf_to_dwg(dwgdir, outputdir)"
   ]
  },
  {
   "cell_type": "code",
   "execution_count": null,
   "id": "b3ab48c1",
   "metadata": {},
   "outputs": [],
   "source": []
  }
 ],
 "metadata": {
  "kernelspec": {
   "display_name": "Python 3 (ipykernel)",
   "language": "python",
   "name": "python3"
  },
  "language_info": {
   "codemirror_mode": {
    "name": "ipython",
    "version": 3
   },
   "file_extension": ".py",
   "mimetype": "text/x-python",
   "name": "python",
   "nbconvert_exporter": "python",
   "pygments_lexer": "ipython3",
   "version": "3.7.9"
  },
  "varInspector": {
   "cols": {
    "lenName": 16,
    "lenType": 16,
    "lenVar": 40
   },
   "kernels_config": {
    "python": {
     "delete_cmd_postfix": "",
     "delete_cmd_prefix": "del ",
     "library": "var_list.py",
     "varRefreshCmd": "print(var_dic_list())"
    },
    "r": {
     "delete_cmd_postfix": ") ",
     "delete_cmd_prefix": "rm(",
     "library": "var_list.r",
     "varRefreshCmd": "cat(var_dic_list()) "
    }
   },
   "types_to_exclude": [
    "module",
    "function",
    "builtin_function_or_method",
    "instance",
    "_Feature"
   ],
   "window_display": false
  }
 },
 "nbformat": 4,
 "nbformat_minor": 5
}
