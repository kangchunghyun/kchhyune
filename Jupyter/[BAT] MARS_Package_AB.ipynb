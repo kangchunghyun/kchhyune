{
 "cells": [
  {
   "cell_type": "code",
   "execution_count": 48,
   "id": "660483ac",
   "metadata": {},
   "outputs": [],
   "source": [
    "import zipfile\n",
    "import hashlib\n",
    "import csv\n",
    "import os\n",
    "import io"
   ]
  },
  {
   "cell_type": "code",
   "execution_count": 6,
   "id": "f99fd287",
   "metadata": {},
   "outputs": [
    {
     "name": "stdout",
     "output_type": "stream",
     "text": [
      "jar 파일 경로와 이름을 입력하세요. : D:\\00_Script\\자동화\\mars_server_v2.5.5.13.20.slsp\n",
      "jar 파일 경로와 이름을 입력하세요. : D:\\00_Script\\자동화\\mars_server_v2.5.5.13.21.slsp\n"
     ]
    }
   ],
   "source": [
    "# jar 파일을 압축을 해지합니다.\n",
    "jarPaths = []\n",
    "password = b\"b002cd031989a8118aab022d74616efd5718f399\"\n",
    "\n",
    "for i in range(2):\n",
    "    inputDir = input(\"jar 파일 경로와 이름을 입력하세요. : \")\n",
    "    jarPaths.append(inputDir)"
   ]
  },
  {
   "cell_type": "code",
   "execution_count": 120,
   "id": "bc3f6f11",
   "metadata": {},
   "outputs": [],
   "source": [
    "# 파일의 해시값을 계산합니다.\n",
    "def compute_hash(file, algorithm=\"sha256\"):\n",
    "    hash_func = hashlib.new(algorithm)\n",
    "    hash_func.update(file.read())\n",
    "    return hash_func.hexdigest()"
   ]
  },
  {
   "cell_type": "code",
   "execution_count": 121,
   "id": "162c2e0b",
   "metadata": {},
   "outputs": [],
   "source": [
    "# 압축 파일내에 HASH 값을 계산하고 CSV 파일로 저장합니다. \n",
    "def get_file_hashes(jar_path):\n",
    "    file_hashes = {}\n",
    "    filePath, fileName = os.path.split(jar_path)\n",
    "        \n",
    "    with open(filePath + \"\\\\\" + fileName + \".csv\", mode = \"w\", newline='') as csvfile:\n",
    "        writer = csv.writer(csvfile)\n",
    "        writer.writerow(['jar File', 'File Name', 'Hash Value'])\n",
    "        \n",
    "        with zipfile.ZipFile(jar_path, 'r') as package:\n",
    "            for file_name in package.namelist():\n",
    "                if not file_name.endswith(\"/\"):  # Skip directories\n",
    "                    with package.open(file_name, pwd=password) as file:\n",
    "                        # Compute and store the hash\n",
    "                        #print(file_name)\n",
    "                        file_hashes[file_name] = compute_hash(file)\n",
    "                        writer.writerow([jarPaths[i], file_name, file_hashes[file_name]])\n",
    "                                \n",
    "    return file_hashes"
   ]
  },
  {
   "cell_type": "code",
   "execution_count": 122,
   "id": "bbd7f197",
   "metadata": {},
   "outputs": [],
   "source": [
    "# Get file hashes from both .jar files\n",
    "hashes_jar1 = get_file_hashes(jarPaths[0])\n",
    "hashes_jar2 = get_file_hashes(jarPaths[1])"
   ]
  },
  {
   "cell_type": "code",
   "execution_count": 24,
   "id": "cb20eb0d",
   "metadata": {},
   "outputs": [
    {
     "name": "stdout",
     "output_type": "stream",
     "text": [
      "결과 csv 저장할 경로와 파일명을 입력하세요.D:\\00_Script\\자동화\\test.csv\n"
     ]
    }
   ],
   "source": [
    "outputCsv = input(\"결과 csv 저장할 경로와 파일명을 입력하세요.\")"
   ]
  },
  {
   "cell_type": "code",
   "execution_count": 25,
   "id": "b840befa",
   "metadata": {},
   "outputs": [
    {
     "name": "stdout",
     "output_type": "stream",
     "text": [
      "File 'BALTHAZAR/lib/cdr-5.0.0.5.jar' is only present in D:\\00_Script\\자동화\\mars_server_v2.5.5.13.20.slsp.\n",
      "  Hash: fb8bbb4106bc2b101d2cb8000f107874e9239f392f2090d007a102193461bd4b\n",
      "File 'BALTHAZAR/balthazar-2.5.5.13.12.jar' is only present in D:\\00_Script\\자동화\\mars_server_v2.5.5.13.20.slsp.\n",
      "  Hash: 59cf8a8e6b46f917100e754bcb55e290aa290d16dce306c8caf7e2772d096283\n",
      "File 'MELCHIOR/lib/melchior-2.5.5.13.15.jar' is only present in D:\\00_Script\\자동화\\mars_server_v2.5.5.13.20.slsp.\n",
      "  Hash: c6b3cb19b4e15a746b81bd52f40880a264f3ce237e1f94536bfc64f1187b14c3\n",
      "File 'WEB-CONSOLE/web-console.version' differs between the jars.\n",
      "  Hash in D:\\00_Script\\자동화\\mars_server_v2.5.5.13.20.slsp: 36e08ce01b1b826b4ded34d6f9887f4b8e1c9b8840816c794f278908c0889c57\n",
      "  Hash in D:\\00_Script\\자동화\\mars_server_v2.5.5.13.21.slsp: edbe72499b080c4f3522de0e6fe6594b0f225ad188c8fb412b178a462cd112b7\n",
      "File 'WEB-CONSOLE/web-console' differs between the jars.\n",
      "  Hash in D:\\00_Script\\자동화\\mars_server_v2.5.5.13.20.slsp: af1773dde1de7ee604b4e8f454f147f888431ae8dd4f5dffde89dd96e3e074e5\n",
      "  Hash in D:\\00_Script\\자동화\\mars_server_v2.5.5.13.21.slsp: 10df7fc7df847ee9bb828827beab4e1c112f70626ceb576e1cc1f64fb88d4a7b\n",
      "File 'BALTHAZAR/balthazar-2.5.5.13.13.jar' is only present in D:\\00_Script\\자동화\\mars_server_v2.5.5.13.21.slsp.\n",
      "  Hash: 5874cca1ffb9ec97bbd2ef51cc0abf497938dcede86cfb6d41464139d383740a\n",
      "File 'BALTHAZAR/lib/cdr-5.0.1.0.jar' is only present in D:\\00_Script\\자동화\\mars_server_v2.5.5.13.21.slsp.\n",
      "  Hash: ea54b0e6099ae3e0830e6e35c5f7585505a04c1af75c00d25e4d85fab3518d97\n",
      "File 'MELCHIOR/lib/melchior-2.5.5.13.16.jar' is only present in D:\\00_Script\\자동화\\mars_server_v2.5.5.13.21.slsp.\n",
      "  Hash: ecf4fc661d9ad731ea1f903f0cb57011b09d5e71eea80a8dc603a4ab667d9c09\n"
     ]
    }
   ],
   "source": [
    "# Compare the hashes of files in both .jar files\n",
    "with open(outputCsv, \"w\", newline='') as csvfile:\n",
    "    writer = csv.writer(csvfile)\n",
    "    writer.writerow(['file_name', jarPaths[0], jarPaths[1]])\n",
    "    \n",
    "    for file_name in hashes_jar1:\n",
    "        if file_name in hashes_jar2:\n",
    "            if hashes_jar1[file_name] != hashes_jar2[file_name]:\n",
    "                writer.writerow([file_name, hashes_jar1[file_name], hashes_jar2[file_name]])\n",
    "                # Print file name and hash values if they differ\n",
    "                print(f\"File '{file_name}' differs between the jars.\")\n",
    "                print(f\"  Hash in {jarPaths[0]}: {hashes_jar1[file_name]}\")\n",
    "                print(f\"  Hash in {jarPaths[1]}: {hashes_jar2[file_name]}\")\n",
    "        else:\n",
    "            # Print file name and hash value if it's only in the first jar\n",
    "            writer.writerow([file_name, hashes_jar1[file_name], \"-\"])\n",
    "            print(f\"File '{file_name}' is only present in {jarPaths[0]}.\")\n",
    "            print(f\"  Hash: {hashes_jar1[file_name]}\")\n",
    "\n",
    "    # Check for files in the second jar that are not in the first jar\n",
    "    for file_name in hashes_jar2:\n",
    "        if file_name not in hashes_jar1:\n",
    "            # Print file name and hash value if it's only in the second jar\n",
    "            writer.writerow([file_name, \"-\", hashes_jar2[file_name]])\n",
    "            print(f\"File '{file_name}' is only present in {jarPaths[1]}.\")\n",
    "            print(f\"  Hash: {hashes_jar2[file_name]}\")\n"
   ]
  },
  {
   "cell_type": "code",
   "execution_count": null,
   "id": "138933f1",
   "metadata": {},
   "outputs": [],
   "source": []
  },
  {
   "cell_type": "code",
   "execution_count": 113,
   "id": "53b682e3",
   "metadata": {},
   "outputs": [],
   "source": [
    "# General function to extract hashes from nested archives (.zip or .jar)\n",
    "def extract_hashes_from_nested_archive(archive_data):\n",
    "    nested_file_hashes = {}\n",
    "\n",
    "    # If archive_data is a BytesIO object, use .getvalue() to extract raw bytes\n",
    "    if isinstance(archive_data, io.BytesIO):\n",
    "        archive_data = archive_data.getvalue()\n",
    "\n",
    "    # Open the archive (can be .zip or .jar) from raw bytes\n",
    "    with zipfile.ZipFile(io.BytesIO(archive_data)) as archive:\n",
    "        for file_name in archive.namelist():\n",
    "            # Skip directories\n",
    "            if file_name.endswith(\"/\"):\n",
    "                continue\n",
    "            \n",
    "            # Skip META-INF/MANIFEST.MF if it's a .jar file\n",
    "            if file_name == \"META-INF/MANIFEST.MF\":\n",
    "                continue\n",
    "\n",
    "            # Check if the file itself is a .jar (or another nested archive)\n",
    "            if file_name.endswith(\".jar\"):\n",
    "                with archive.open(file_name) as nested_jar_file:\n",
    "                    # Recursively extract hashes from the nested .jar\n",
    "                    nested_data = io.BytesIO(nested_jar_file.read())\n",
    "                    nested_hashes = extract_hashes_from_nested_archive(nested_data)\n",
    "                    for nested_name, nested_hash in nested_hashes.items():\n",
    "                        nested_file_hashes[f\"{file_name}/{nested_name}\"] = nested_hash\n",
    "            else:\n",
    "                # For regular files, compute the hash\n",
    "                with archive.open(file_name) as file:\n",
    "                    nested_file_hashes[file_name] = compute_hash(file)\n",
    "\n",
    "    return nested_file_hashes"
   ]
  }
 ],
 "metadata": {
  "kernelspec": {
   "display_name": "Python 3 (ipykernel)",
   "language": "python",
   "name": "python3"
  },
  "language_info": {
   "codemirror_mode": {
    "name": "ipython",
    "version": 3
   },
   "file_extension": ".py",
   "mimetype": "text/x-python",
   "name": "python",
   "nbconvert_exporter": "python",
   "pygments_lexer": "ipython3",
   "version": "3.7.9"
  }
 },
 "nbformat": 4,
 "nbformat_minor": 5
}
