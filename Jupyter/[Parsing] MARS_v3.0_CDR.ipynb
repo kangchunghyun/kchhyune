{
 "cells": [
  {
   "cell_type": "code",
   "execution_count": 1,
   "metadata": {
    "ExecuteTime": {
     "end_time": "2025-04-10T01:06:20.594530Z",
     "start_time": "2025-04-10T01:06:20.588740Z"
    }
   },
   "outputs": [],
   "source": [
    "from json import loads\n",
    "import os.path, time\n",
    "import csv\n",
    "import re\n",
    "import shutil\n",
    "import itertools\n",
    "import traceback\n",
    "from glob import glob\n",
    "#from openpyxl import load_workbook\n",
    "# import pandas as pd"
   ]
  },
  {
   "cell_type": "markdown",
   "metadata": {},
   "source": [
    "▼ 파싱할 json 경로를 입력하세요. (ex: E:\\1_Check\\SLF_001\\84\\RESULT\\MALICIOUS\\)"
   ]
  },
  {
   "cell_type": "code",
   "execution_count": 2,
   "metadata": {
    "ExecuteTime": {
     "end_time": "2025-04-10T01:06:21.172316Z",
     "start_time": "2025-04-10T01:06:21.164290Z"
    }
   },
   "outputs": [],
   "source": [
    "def jsonFile():\n",
    "       \n",
    "    return glob(dirName + '*.json')"
   ]
  },
  {
   "cell_type": "code",
   "execution_count": 3,
   "metadata": {
    "ExecuteTime": {
     "end_time": "2025-04-10T01:06:21.414366Z",
     "start_time": "2025-04-10T01:06:21.403269Z"
    }
   },
   "outputs": [],
   "source": [
    "def extract_categories(report_items, category_count):\n",
    "    \"\"\"\n",
    "    report_items 리스트를 순회하며 category 정보를 수집하는 재귀 함수.\n",
    "    \"\"\"\n",
    "    for item in report_items:\n",
    "        category = item.get(\"category\")\n",
    "        if category:\n",
    "            category_count[category] = category_count.get(category, 0) + 1\n",
    "        \n",
    "        # 하위 reportItems가 있는 경우 재귀 호출\n",
    "        sub_items = item.get(\"reportItems\")\n",
    "        if sub_items and isinstance(sub_items, list):\n",
    "            extract_categories(sub_items, category_count)"
   ]
  },
  {
   "cell_type": "code",
   "execution_count": 4,
   "metadata": {
    "ExecuteTime": {
     "end_time": "2025-04-10T01:06:21.655974Z",
     "start_time": "2025-04-10T01:06:21.643287Z"
    }
   },
   "outputs": [],
   "source": [
    "def cdrParsing(report):\n",
    "    \n",
    "    with open(report, 'r', encoding='utf-8') as json_file:\n",
    "        json_data = loads(json_file.read())\n",
    "    \n",
    "        cdrRoot = json_data.get(\"fileAnalysisResults\",None)[0]\n",
    "        balthaTime = cdrRoot.get(\"elapsedTimes\",None).get(\"BALTHAZAR_ANALYSIS\",None).get(\"endTime\",None) - cdrRoot.get(\"elapsedTimes\",None).get(\"BALTHAZAR_ANALYSIS\",None).get(\"startTime\",None)\n",
    "        totalTime = json_data.get(\"allElapsedTime\",None)\n",
    "        \n",
    "        targetData = {\n",
    "            \"targetId\": cdrRoot.get(\"targetId\",None),\n",
    "            \"sha256\": cdrRoot.get(\"sha256\",None),\n",
    "            \"fileName\": cdrRoot.get(\"fileName\",None),\n",
    "            #\"fileFormat\": cdrRoot.get(\"fileFormat\",None),\n",
    "            \"mimeType\": cdrRoot.get(\"mimeType\",None),\n",
    "            \"cdrResult\": cdrRoot.get(\"cdrInfo\",None).get(\"status\",None),\n",
    "            \"filesize\": cdrRoot.get(\"size\",None)/1024/1024,\n",
    "            \"balthaTime\": balthaTime,\n",
    "            \"allElapsedTime\": totalTime,\n",
    "        }\n",
    "        \n",
    "        if cdrRoot.get(\"cdrInfo\",None).get(\"status\",None) != \"NOT_RUN\": \n",
    "        \n",
    "            sanitizeData = {\n",
    "                \"cdrResult\": cdrRoot.get(\"cdrInfo\",None).get(\"status\",None),\n",
    "                \"cdrStatus\": cdrRoot.get(\"cdrResult\",None).get(\"cdrMarsReport\",None).get(\"statusInfo\",None).get(\"message\",None),\n",
    "                \"cdrElapsedTime\": cdrRoot.get(\"cdrResult\",None).get(\"cdrMarsReport\",None).get(\"statusInfo\",None).get(\"elapsedTime\",None),\n",
    "                \"cdrDetailMessage\": cdrRoot.get(\"cdrResult\",None).get(\"cdrMarsReport\",None).get(\"statusInfo\",None).get(\"detailMessage\",None),\n",
    "                \"cdrDetectedFileType\": cdrRoot.get(\"cdrResult\",None).get(\"detectedFileType\",None),\n",
    "            }\n",
    "\n",
    "            itemCategory = cdrRoot.get(\"cdrResult\",None).get(\"cdrMarsReport\",None).get(\"reportItems\",None)\n",
    "            #print(itemCategory)\n",
    "            itemCount = len(itemCategory)\n",
    "\n",
    "            sanitizeItem = {}\n",
    "\n",
    "            for num in range(itemCount):\n",
    "                category = itemCategory[num].get(\"category\")\n",
    "                categoryTotal = itemCategory[num].get(\"total\")\n",
    "\n",
    "                # 해당 카테고리가 이미 존재하면 +1, 아니면 1로 초기화\n",
    "                if category in sanitizeItem:\n",
    "                    sanitizeItem[category] += categoryTotal\n",
    "                else:\n",
    "                    sanitizeItem[category] = categoryTotal\n",
    "\n",
    "            combineData = {**targetData, **sanitizeData, **sanitizeItem}\n",
    "            #print(combineData)\n",
    "            \n",
    "        else:\n",
    "            combineData = {**targetData}\n",
    "\n",
    "        return combineData"
   ]
  },
  {
   "cell_type": "code",
   "execution_count": 5,
   "metadata": {
    "ExecuteTime": {
     "end_time": "2025-04-10T01:06:22.260480Z",
     "start_time": "2025-04-10T01:06:22.244562Z"
    }
   },
   "outputs": [],
   "source": [
    "dataField =  {\n",
    "    \"targetId\":\"\", \"sha256\": \"\", \"fileName\":\"\", \"filesize\":\"\", \"mimeType\":\"\", \"cdrDetectedFileType\":\"\", \"cdrResult\":\"\", \"cdrStatus\":\"\", \n",
    "    \"balthaTime\":\"\", \"cdrElapsedTime\":\"\", \"allElapsedTime\":\"\", \"cdrDetailMessage\":\"\", \n",
    "    \"ACTIVEX\":\"\", \"ATTACHED_TEMPLATE\":\"\", \"DDE\":\"\", \"FORMULA\":\"\", \"FRAME_SET\":\"\", \"HYPERLINK\":\"\", \"LINKED_OBJECT\":\"\", \"MACRO\":\"\", \n",
    "    \"EXCEL4\":\"\", \"OLE\":\"\", \"SCRIPT\":\"\", \"POST_SCRIPT\":\"\", \"EMBEDDED_FILE\":\"\", \"INVALID_ENTRY\":\"\", \"ORPHAN_ENTRY\":\"\", \"UNUSED_ENTRY\":\"\", \"ATTACHMENT\":\"\", \n",
    "    \"HTML\":\"\", \"IMAGE\":\"\", \"MEDIA\":\"\", \"QR_CODE\":\"\", \"META_DATA\":\"\", \"COMMENT\":\"\", \"UNSPECIFIED_DATA\":\"\", \"LNK_FIELD\":\"\", \"SUSPICIOUS_DATA\":\"\", \n",
    "    \"INVALID_CHARACTER\":\"\", \"REG_EXP\":\"\", \"DRAWING_ML\":\"\", \"XFA\": \"\"\n",
    "}"
   ]
  },
  {
   "cell_type": "code",
   "execution_count": 9,
   "metadata": {
    "ExecuteTime": {
     "end_time": "2025-04-10T07:11:11.650438Z",
     "start_time": "2025-04-10T07:11:02.585076Z"
    }
   },
   "outputs": [
    {
     "name": "stdout",
     "output_type": "stream",
     "text": [
      "json 경로를 입력하세요.\\\\192.168.2.11\\slf_003\\Report\\\n",
      "결과 취합된 CSV 파일의 저장위치를 입력하세요.\\\\192.168.2.11\\slf_003\\Report\\\n",
      "CSV 파일 이름을 입력하세요.csv_test.csv\n"
     ]
    }
   ],
   "source": [
    "dirName = input(\"json 경로를 입력하세요.\")\n",
    "resultDir = input(\"결과 취합된 CSV 파일의 저장위치를 입력하세요.\")\n",
    "resultFileName = input(\"CSV 파일 이름을 입력하세요.\")\n",
    "resultCSV = resultDir + resultFileName"
   ]
  },
  {
   "cell_type": "code",
   "execution_count": 10,
   "metadata": {
    "ExecuteTime": {
     "end_time": "2025-04-10T07:11:13.002887Z",
     "start_time": "2025-04-10T07:11:12.616115Z"
    },
    "code_folding": [],
    "scrolled": true
   },
   "outputs": [],
   "source": [
    "#jsonReport = jsonFile()\n",
    "\n",
    "with open(resultCSV, \"w\", encoding=\"utf-8-sig\", newline=\"\") as csv_file:\n",
    "    \n",
    "    writer = csv.DictWriter(csv_file, fieldnames=dataField.keys())\n",
    "    writer.writeheader()\n",
    "\n",
    "    for report in glob(dirName + \"*.json\"):\n",
    "        \n",
    "        if report.find(\".zip.json\") != -1:\n",
    "            pass\n",
    "        \n",
    "        else:\n",
    "            data = cdrParsing(report)\n",
    "            writer.writerow(data)\n",
    "\n",
    "csv_file.close()"
   ]
  },
  {
   "cell_type": "code",
   "execution_count": null,
   "metadata": {},
   "outputs": [],
   "source": []
  }
 ],
 "metadata": {
  "kernelspec": {
   "display_name": "Python 3 (ipykernel)",
   "language": "python",
   "name": "python3"
  },
  "language_info": {
   "codemirror_mode": {
    "name": "ipython",
    "version": 3
   },
   "file_extension": ".py",
   "mimetype": "text/x-python",
   "name": "python",
   "nbconvert_exporter": "python",
   "pygments_lexer": "ipython3",
   "version": "3.7.9"
  },
  "toc": {
   "base_numbering": 1,
   "nav_menu": {},
   "number_sections": true,
   "sideBar": true,
   "skip_h1_title": false,
   "title_cell": "Table of Contents",
   "title_sidebar": "Contents",
   "toc_cell": false,
   "toc_position": {},
   "toc_section_display": true,
   "toc_window_display": false
  },
  "varInspector": {
   "cols": {
    "lenName": 16,
    "lenType": 16,
    "lenVar": 40
   },
   "kernels_config": {
    "python": {
     "delete_cmd_postfix": "",
     "delete_cmd_prefix": "del ",
     "library": "var_list.py",
     "varRefreshCmd": "print(var_dic_list())"
    },
    "r": {
     "delete_cmd_postfix": ") ",
     "delete_cmd_prefix": "rm(",
     "library": "var_list.r",
     "varRefreshCmd": "cat(var_dic_list()) "
    }
   },
   "oldHeight": 1177,
   "position": {
    "height": "947px",
    "left": "28px",
    "right": "20px",
    "top": "237px",
    "width": "546px"
   },
   "types_to_exclude": [
    "module",
    "function",
    "builtin_function_or_method",
    "instance",
    "_Feature"
   ],
   "varInspector_section_display": "block",
   "window_display": false
  }
 },
 "nbformat": 4,
 "nbformat_minor": 4
}
