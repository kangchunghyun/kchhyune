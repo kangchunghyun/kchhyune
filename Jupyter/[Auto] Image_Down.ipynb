{
 "cells": [
  {
   "cell_type": "code",
   "execution_count": 3,
   "id": "9dd6a0d0",
   "metadata": {},
   "outputs": [],
   "source": [
    "from selenium import webdriver\n",
    "from selenium.webdriver.common.by import By\n",
    "from selenium.webdriver.common.action_chains import ActionChains\n",
    "from selenium.webdriver.support.ui import WebDriverWait\n",
    "from selenium.webdriver.support import expected_conditions as EC\n",
    "from selenium.webdriver.chrome.options import Options\n",
    "import time"
   ]
  },
  {
   "cell_type": "code",
   "execution_count": 4,
   "id": "214eaa0a",
   "metadata": {},
   "outputs": [],
   "source": [
    "# Set up Chrome options (optional)\n",
    "chrome_options = Options()\n",
    "chrome_options.add_argument(\"--start-maximized\")  # Opens the browser in maximized mode\n",
    "\n",
    "# Initialize the WebDriver\n",
    "driver = webdriver.Chrome(options=chrome_options)  # No need for Service object explicitly"
   ]
  },
  {
   "cell_type": "code",
   "execution_count": 9,
   "id": "b10f61e0",
   "metadata": {},
   "outputs": [],
   "source": [
    "# Define the URL you want to visit\n",
    "url = \"https://commons.wikimedia.org/w/index.php?title=Category%3ALarge_images&source=post_page-----b6c0fea2a4f4--------------------------------#/media/File:%22_Shot_From_The_Sky%22_Army_Show_1945_Oak_Ridge_(24971013612).jpg\"\n",
    "driver.get(url)\n",
    "\n",
    "# Pause to allow the page to load\n",
    "time.sleep(3)\n",
    "\n",
    "downbutton = driver.find_element(By.XPATH,\"/html/body/div[7]/div/div[1]/a[1]/span\")\n",
    "downbutton.click()\n",
    "\n",
    "for i in range(200):\n",
    "    \n",
    "    time.sleep(5)\n",
    "\n",
    "    filedown = driver.find_element(By.XPATH,\"/html/body/div[7]/div/div[1]/div[2]/div[4]/div/a\")\n",
    "    filedown.click()\n",
    "\n",
    "    nextbutton = driver.find_element(By.XPATH,\"/html/body/div[7]/div/div[1]/button[3]/span\")\n",
    "    nextbutton.click()"
   ]
  },
  {
   "cell_type": "code",
   "execution_count": null,
   "id": "059eba14",
   "metadata": {},
   "outputs": [],
   "source": [
    "driver.quit()"
   ]
  },
  {
   "cell_type": "code",
   "execution_count": 29,
   "id": "8fb76012",
   "metadata": {},
   "outputs": [
    {
     "ename": "NameError",
     "evalue": "name 'nextbutton' is not defined",
     "output_type": "error",
     "traceback": [
      "\u001b[1;31m---------------------------------------------------------------------------\u001b[0m",
      "\u001b[1;31mNameError\u001b[0m                                 Traceback (most recent call last)",
      "\u001b[1;32m~\\AppData\\Local\\Temp\\ipykernel_35816\\1229364829.py\u001b[0m in \u001b[0;36m<module>\u001b[1;34m\u001b[0m\n\u001b[1;32m----> 1\u001b[1;33m \u001b[0mprint\u001b[0m\u001b[1;33m(\u001b[0m\u001b[0mnextbutton\u001b[0m\u001b[1;33m)\u001b[0m\u001b[1;33m\u001b[0m\u001b[1;33m\u001b[0m\u001b[0m\n\u001b[0m",
      "\u001b[1;31mNameError\u001b[0m: name 'nextbutton' is not defined"
     ]
    }
   ],
   "source": []
  },
  {
   "cell_type": "code",
   "execution_count": null,
   "id": "fc2b4674",
   "metadata": {},
   "outputs": [],
   "source": []
  }
 ],
 "metadata": {
  "kernelspec": {
   "display_name": "Python 3 (ipykernel)",
   "language": "python",
   "name": "python3"
  },
  "language_info": {
   "codemirror_mode": {
    "name": "ipython",
    "version": 3
   },
   "file_extension": ".py",
   "mimetype": "text/x-python",
   "name": "python",
   "nbconvert_exporter": "python",
   "pygments_lexer": "ipython3",
   "version": "3.7.9"
  }
 },
 "nbformat": 4,
 "nbformat_minor": 5
}
