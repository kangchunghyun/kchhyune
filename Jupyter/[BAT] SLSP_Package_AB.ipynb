{
 "cells": [
  {
   "cell_type": "code",
   "execution_count": 1,
   "id": "57a5c3b9",
   "metadata": {},
   "outputs": [],
   "source": [
    "import zipfile\n",
    "import hashlib\n",
    "import csv\n",
    "import os\n",
    "import io"
   ]
  },
  {
   "cell_type": "code",
   "execution_count": 2,
   "id": "8a52fd5d",
   "metadata": {},
   "outputs": [],
   "source": [
    "# Function to compute the SHA-256 hash of file contents\n",
    "def compute_hash(file, algorithm=\"sha256\"):\n",
    "    hash_func = hashlib.new(algorithm)\n",
    "    hash_func.update(file.read())\n",
    "    return hash_func.hexdigest()"
   ]
  },
  {
   "cell_type": "code",
   "execution_count": 34,
   "id": "b8c15910",
   "metadata": {},
   "outputs": [],
   "source": [
    "# Function to extract hashes from a .zip archive, handling nested .jar files, with password support\n",
    "def extract_hashes_from_nested_archive(archive_data, depth_count, password=None):\n",
    "    nested_file_hashes = {}\n",
    "    # If archive_data is a BytesIO object, use .getvalue() to extract raw bytes\n",
    "\n",
    "    print(archive_data)\n",
    "    if isinstance(archive_data, io.BytesIO):\n",
    "        archive_data = archive_data.getvalue()\n",
    "\n",
    "    # Open the .zip (or .jar) archive from raw bytes\n",
    "    #print(archive_data)\n",
    "    with zipfile.ZipFile(io.BytesIO(archive_data)) as archive:\n",
    "        if password:\n",
    "            archive.setpassword(password)\n",
    "\n",
    "        for file_name in archive.namelist():\n",
    "            # Skip directories\n",
    "            print(file_name)\n",
    "            if file_name.endswith(\"/\"):\n",
    "                continue\n",
    "\n",
    "            # Check if the file itself is a .jar (or another nested archive)            \n",
    "            if file_name.endswith(\".jar\"):\n",
    "                if depth_count == 1:\n",
    "                    continue\n",
    "\n",
    "                with archive.open(file_name) as nested_jar_file:\n",
    "                    # Recursively extract hashes from the nested .jar\n",
    "                    nested_file_hashes[file_name] = compute_hash(nested_jar_file)\n",
    "                    nested_data = io.BytesIO(nested_jar_file.read())\n",
    "                    nested_hashes = extract_hashes_from_nested_archive(nested_data, depth_count-1, password=None)\n",
    "\n",
    "                    for nested_name, nested_hash in nested_hashes.items():\n",
    "                        #nested_file_hashes[f\"{file_name}\"] = file_name\n",
    "                        nested_file_hashes[f\"{nested_name}\"] = [nested_hash, file_name]\n",
    "                        #print(nested_file_hashes[f\"{nested_name}\"])\n",
    "\n",
    "            else:\n",
    "                # For regular files, compute the hash\n",
    "                with archive.open(file_name) as file_obj:\n",
    "                    #file_content = io.BytesIO(file.read())\n",
    "                    nested_file_hashes[file_name] = compute_hash(file_obj)\n",
    "                    #print(f\"{file_name} {nested_file_hashes[file_name]}\")\n",
    "\n",
    "    return nested_file_hashes"
   ]
  },
  {
   "cell_type": "code",
   "execution_count": 28,
   "id": "c5259567",
   "metadata": {},
   "outputs": [
    {
     "name": "stdout",
     "output_type": "stream",
     "text": [
      "jar 파일 경로와 이름을 입력하세요. : \\\\192.168.2.21\\Package\\빌드 형상 관리\\MARS Platform V2.5\\v2.5.5.13\\v2.5.5.13.23\\mars_server_v2.5.5.13.23.slsp\n",
      "jar 파일 경로와 이름을 입력하세요. : \\\\192.168.2.21\\Package\\빌드 형상 관리\\MARS Platform V2.5\\v2.5.5.13\\v2.5.5.13.25\\mars_server_v2.5.5.13.25.slsp\n"
     ]
    }
   ],
   "source": [
    "# Load your main ZIP file in binary mode\n",
    "inputPaths = []\n",
    "\n",
    "for i in range(2):\n",
    "    inputDir = input(\"jar 파일 경로와 이름을 입력하세요. : \")\n",
    "    inputPaths.append(inputDir)\n",
    "    \n",
    "password = b\"b002cd031989a8118aab022d74616efd5718f399\""
   ]
  },
  {
   "cell_type": "code",
   "execution_count": 35,
   "id": "53ddc478",
   "metadata": {},
   "outputs": [
    {
     "name": "stdout",
     "output_type": "stream",
     "text": [
      "b'archive_data'\n",
      "BALTHAZAR/\n",
      "BALTHAZAR/bin/\n",
      "BALTHAZAR/bin/updateCacheDB.sh\n",
      "BALTHAZAR/bin/start.sh\n",
      "BALTHAZAR/bin/unrar_linux\n",
      "BALTHAZAR/bin/unegg_mac\n",
      "BALTHAZAR/bin/stop.sh\n",
      "BALTHAZAR/bin/FileTypeDetector/\n",
      "BALTHAZAR/bin/FileTypeDetector/HexaInspector.RTF.rule\n",
      "BALTHAZAR/bin/FileTypeDetector/HexaInspector.ini\n",
      "BALTHAZAR/bin/FileTypeDetector/FileTypeDetector-1.0.33\n",
      "BALTHAZAR/bin/FileTypeDetector/HexaInspector.PPAM.rule\n",
      "BALTHAZAR/bin/FileTypeDetector/HexaInspector.signature.rule\n",
      "BALTHAZAR/bin/unegg_linux\n",
      "BALTHAZAR/bin/update.sh\n",
      "BALTHAZAR/lib/\n",
      "BALTHAZAR/lib/cdr-5.0.1.1.jar\n",
      "b'archive_data'\n"
     ]
    },
    {
     "ename": "BadZipFile",
     "evalue": "File is not a zip file",
     "output_type": "error",
     "traceback": [
      "\u001b[1;31m---------------------------------------------------------------------------\u001b[0m",
      "\u001b[1;31mBadZipFile\u001b[0m                                Traceback (most recent call last)",
      "\u001b[1;32m~\\AppData\\Local\\Temp\\ipykernel_27300\\2914081973.py\u001b[0m in \u001b[0;36m<module>\u001b[1;34m\u001b[0m\n\u001b[0;32m      5\u001b[0m \u001b[1;33m\u001b[0m\u001b[0m\n\u001b[0;32m      6\u001b[0m \u001b[1;31m# Extract hashes from the ZIP file, including files within any nested .jar\u001b[0m\u001b[1;33m\u001b[0m\u001b[1;33m\u001b[0m\u001b[1;33m\u001b[0m\u001b[0m\n\u001b[1;32m----> 7\u001b[1;33m \u001b[0mfile_hashes1\u001b[0m \u001b[1;33m=\u001b[0m \u001b[0mextract_hashes_from_nested_archive\u001b[0m\u001b[1;33m(\u001b[0m\u001b[0mio\u001b[0m\u001b[1;33m.\u001b[0m\u001b[0mBytesIO\u001b[0m\u001b[1;33m(\u001b[0m\u001b[0mzip_data\u001b[0m\u001b[1;33m)\u001b[0m\u001b[1;33m,\u001b[0m \u001b[0mdepth_count\u001b[0m\u001b[1;33m,\u001b[0m \u001b[0mpassword\u001b[0m\u001b[1;33m=\u001b[0m\u001b[0mpassword\u001b[0m\u001b[1;33m)\u001b[0m\u001b[1;33m\u001b[0m\u001b[1;33m\u001b[0m\u001b[0m\n\u001b[0m\u001b[0;32m      8\u001b[0m \u001b[1;31m#file_hashes2 = extract_hashes_from_nested_archive(io.BytesIO(zip_data), password=password)\u001b[0m\u001b[1;33m\u001b[0m\u001b[1;33m\u001b[0m\u001b[1;33m\u001b[0m\u001b[0m\n",
      "\u001b[1;32m~\\AppData\\Local\\Temp\\ipykernel_27300\\3310655837.py\u001b[0m in \u001b[0;36mextract_hashes_from_nested_archive\u001b[1;34m(archive_data, depth_count, password)\u001b[0m\n\u001b[0;32m     29\u001b[0m                     \u001b[0mnested_file_hashes\u001b[0m\u001b[1;33m[\u001b[0m\u001b[0mfile_name\u001b[0m\u001b[1;33m]\u001b[0m \u001b[1;33m=\u001b[0m \u001b[0mcompute_hash\u001b[0m\u001b[1;33m(\u001b[0m\u001b[0mnested_jar_file\u001b[0m\u001b[1;33m)\u001b[0m\u001b[1;33m\u001b[0m\u001b[1;33m\u001b[0m\u001b[0m\n\u001b[0;32m     30\u001b[0m                     \u001b[0mnested_data\u001b[0m \u001b[1;33m=\u001b[0m \u001b[0mio\u001b[0m\u001b[1;33m.\u001b[0m\u001b[0mBytesIO\u001b[0m\u001b[1;33m(\u001b[0m\u001b[0mnested_jar_file\u001b[0m\u001b[1;33m.\u001b[0m\u001b[0mread\u001b[0m\u001b[1;33m(\u001b[0m\u001b[1;33m)\u001b[0m\u001b[1;33m)\u001b[0m\u001b[1;33m\u001b[0m\u001b[1;33m\u001b[0m\u001b[0m\n\u001b[1;32m---> 31\u001b[1;33m                     \u001b[0mnested_hashes\u001b[0m \u001b[1;33m=\u001b[0m \u001b[0mextract_hashes_from_nested_archive\u001b[0m\u001b[1;33m(\u001b[0m\u001b[0mnested_data\u001b[0m\u001b[1;33m,\u001b[0m \u001b[0mdepth_count\u001b[0m\u001b[1;33m-\u001b[0m\u001b[1;36m1\u001b[0m\u001b[1;33m,\u001b[0m \u001b[0mpassword\u001b[0m\u001b[1;33m=\u001b[0m\u001b[1;32mNone\u001b[0m\u001b[1;33m)\u001b[0m\u001b[1;33m\u001b[0m\u001b[1;33m\u001b[0m\u001b[0m\n\u001b[0m\u001b[0;32m     32\u001b[0m \u001b[1;33m\u001b[0m\u001b[0m\n\u001b[0;32m     33\u001b[0m                     \u001b[1;32mfor\u001b[0m \u001b[0mnested_name\u001b[0m\u001b[1;33m,\u001b[0m \u001b[0mnested_hash\u001b[0m \u001b[1;32min\u001b[0m \u001b[0mnested_hashes\u001b[0m\u001b[1;33m.\u001b[0m\u001b[0mitems\u001b[0m\u001b[1;33m(\u001b[0m\u001b[1;33m)\u001b[0m\u001b[1;33m:\u001b[0m\u001b[1;33m\u001b[0m\u001b[1;33m\u001b[0m\u001b[0m\n",
      "\u001b[1;32m~\\AppData\\Local\\Temp\\ipykernel_27300\\3310655837.py\u001b[0m in \u001b[0;36mextract_hashes_from_nested_archive\u001b[1;34m(archive_data, depth_count, password)\u001b[0m\n\u001b[0;32m     10\u001b[0m     \u001b[1;31m# Open the .zip (or .jar) archive from raw bytes\u001b[0m\u001b[1;33m\u001b[0m\u001b[1;33m\u001b[0m\u001b[1;33m\u001b[0m\u001b[0m\n\u001b[0;32m     11\u001b[0m     \u001b[1;31m#print(archive_data)\u001b[0m\u001b[1;33m\u001b[0m\u001b[1;33m\u001b[0m\u001b[1;33m\u001b[0m\u001b[0m\n\u001b[1;32m---> 12\u001b[1;33m     \u001b[1;32mwith\u001b[0m \u001b[0mzipfile\u001b[0m\u001b[1;33m.\u001b[0m\u001b[0mZipFile\u001b[0m\u001b[1;33m(\u001b[0m\u001b[0mio\u001b[0m\u001b[1;33m.\u001b[0m\u001b[0mBytesIO\u001b[0m\u001b[1;33m(\u001b[0m\u001b[0marchive_data\u001b[0m\u001b[1;33m)\u001b[0m\u001b[1;33m)\u001b[0m \u001b[1;32mas\u001b[0m \u001b[0marchive\u001b[0m\u001b[1;33m:\u001b[0m\u001b[1;33m\u001b[0m\u001b[1;33m\u001b[0m\u001b[0m\n\u001b[0m\u001b[0;32m     13\u001b[0m         \u001b[1;32mif\u001b[0m \u001b[0mpassword\u001b[0m\u001b[1;33m:\u001b[0m\u001b[1;33m\u001b[0m\u001b[1;33m\u001b[0m\u001b[0m\n\u001b[0;32m     14\u001b[0m             \u001b[0marchive\u001b[0m\u001b[1;33m.\u001b[0m\u001b[0msetpassword\u001b[0m\u001b[1;33m(\u001b[0m\u001b[0mpassword\u001b[0m\u001b[1;33m)\u001b[0m\u001b[1;33m\u001b[0m\u001b[1;33m\u001b[0m\u001b[0m\n",
      "\u001b[1;32mc:\\users\\kchhy\\appdata\\local\\programs\\python\\python37\\lib\\zipfile.py\u001b[0m in \u001b[0;36m__init__\u001b[1;34m(self, file, mode, compression, allowZip64, compresslevel)\u001b[0m\n\u001b[0;32m   1256\u001b[0m         \u001b[1;32mtry\u001b[0m\u001b[1;33m:\u001b[0m\u001b[1;33m\u001b[0m\u001b[1;33m\u001b[0m\u001b[0m\n\u001b[0;32m   1257\u001b[0m             \u001b[1;32mif\u001b[0m \u001b[0mmode\u001b[0m \u001b[1;33m==\u001b[0m \u001b[1;34m'r'\u001b[0m\u001b[1;33m:\u001b[0m\u001b[1;33m\u001b[0m\u001b[1;33m\u001b[0m\u001b[0m\n\u001b[1;32m-> 1258\u001b[1;33m                 \u001b[0mself\u001b[0m\u001b[1;33m.\u001b[0m\u001b[0m_RealGetContents\u001b[0m\u001b[1;33m(\u001b[0m\u001b[1;33m)\u001b[0m\u001b[1;33m\u001b[0m\u001b[1;33m\u001b[0m\u001b[0m\n\u001b[0m\u001b[0;32m   1259\u001b[0m             \u001b[1;32melif\u001b[0m \u001b[0mmode\u001b[0m \u001b[1;32min\u001b[0m \u001b[1;33m(\u001b[0m\u001b[1;34m'w'\u001b[0m\u001b[1;33m,\u001b[0m \u001b[1;34m'x'\u001b[0m\u001b[1;33m)\u001b[0m\u001b[1;33m:\u001b[0m\u001b[1;33m\u001b[0m\u001b[1;33m\u001b[0m\u001b[0m\n\u001b[0;32m   1260\u001b[0m                 \u001b[1;31m# set the modified flag so central directory gets written\u001b[0m\u001b[1;33m\u001b[0m\u001b[1;33m\u001b[0m\u001b[1;33m\u001b[0m\u001b[0m\n",
      "\u001b[1;32mc:\\users\\kchhy\\appdata\\local\\programs\\python\\python37\\lib\\zipfile.py\u001b[0m in \u001b[0;36m_RealGetContents\u001b[1;34m(self)\u001b[0m\n\u001b[0;32m   1323\u001b[0m             \u001b[1;32mraise\u001b[0m \u001b[0mBadZipFile\u001b[0m\u001b[1;33m(\u001b[0m\u001b[1;34m\"File is not a zip file\"\u001b[0m\u001b[1;33m)\u001b[0m\u001b[1;33m\u001b[0m\u001b[1;33m\u001b[0m\u001b[0m\n\u001b[0;32m   1324\u001b[0m         \u001b[1;32mif\u001b[0m \u001b[1;32mnot\u001b[0m \u001b[0mendrec\u001b[0m\u001b[1;33m:\u001b[0m\u001b[1;33m\u001b[0m\u001b[1;33m\u001b[0m\u001b[0m\n\u001b[1;32m-> 1325\u001b[1;33m             \u001b[1;32mraise\u001b[0m \u001b[0mBadZipFile\u001b[0m\u001b[1;33m(\u001b[0m\u001b[1;34m\"File is not a zip file\"\u001b[0m\u001b[1;33m)\u001b[0m\u001b[1;33m\u001b[0m\u001b[1;33m\u001b[0m\u001b[0m\n\u001b[0m\u001b[0;32m   1326\u001b[0m         \u001b[1;32mif\u001b[0m \u001b[0mself\u001b[0m\u001b[1;33m.\u001b[0m\u001b[0mdebug\u001b[0m \u001b[1;33m>\u001b[0m \u001b[1;36m1\u001b[0m\u001b[1;33m:\u001b[0m\u001b[1;33m\u001b[0m\u001b[1;33m\u001b[0m\u001b[0m\n\u001b[0;32m   1327\u001b[0m             \u001b[0mprint\u001b[0m\u001b[1;33m(\u001b[0m\u001b[0mendrec\u001b[0m\u001b[1;33m)\u001b[0m\u001b[1;33m\u001b[0m\u001b[1;33m\u001b[0m\u001b[0m\n",
      "\u001b[1;31mBadZipFile\u001b[0m: File is not a zip file"
     ]
    }
   ],
   "source": [
    "depth_count = 0\n",
    "\n",
    "with open(inputPaths[0], \"rb\") as zip_file:\n",
    "    zip_data = zip_file.read()\n",
    "\n",
    "# Extract hashes from the ZIP file, including files within any nested .jar\n",
    "file_hashes1 = extract_hashes_from_nested_archive(io.BytesIO(zip_data), depth_count, password=password)\n",
    "#file_hashes2 = extract_hashes_from_nested_archive(io.BytesIO(zip_data), password=password)"
   ]
  },
  {
   "cell_type": "code",
   "execution_count": null,
   "id": "45f312a2",
   "metadata": {},
   "outputs": [],
   "source": [
    "depth_count = 0\n",
    "\n",
    "with open(inputPaths[1], \"rb\") as zip_file:\n",
    "    zip_data = zip_file.read()\n",
    "\n",
    "file_hashes2 = extract_hashes_from_nested_archive(io.BytesIO(zip_data), depth_count, password=password)"
   ]
  },
  {
   "cell_type": "code",
   "execution_count": 277,
   "id": "468eb20c",
   "metadata": {},
   "outputs": [],
   "source": [
    "file_hashes = []\n",
    "file_hashes.append(file_hashes1)\n",
    "file_hashes.append(file_hashes2)\n",
    "count = 0\n",
    "\n",
    "for i in inputPaths:\n",
    "    resultPath, fileName = os.path.split(i)\n",
    "        \n",
    "    with open(f\"{resultPath}\\\\{fileName}.csv\", \"w\", newline=\"\") as csvfile:\n",
    "        writer = csv.writer(csvfile)\n",
    "        writer.writerow(['filename', 'hash'])\n",
    "\n",
    "        for key, values in file_hashes[count].items():\n",
    "            writer.writerow([key, values])\n",
    "            \n",
    "    count = count + 1\n",
    "    csvfile.close()"
   ]
  },
  {
   "cell_type": "code",
   "execution_count": 278,
   "id": "33886f58",
   "metadata": {},
   "outputs": [
    {
     "name": "stdout",
     "output_type": "stream",
     "text": [
      "결과 csv 저장할 경로와 파일명을 입력하세요.D:\\00_Script\\자동화\\CDR_v5.0.1\\compare.csv\n"
     ]
    }
   ],
   "source": [
    "outputCsv = input(\"결과 csv 저장할 경로와 파일명을 입력하세요.\")"
   ]
  },
  {
   "cell_type": "code",
   "execution_count": 296,
   "id": "44d1a445",
   "metadata": {},
   "outputs": [
    {
     "name": "stdout",
     "output_type": "stream",
     "text": [
      "['com/seculetter/sukcheong/core/rtf/RtfNodeManager.class', '-', 'f44977cba963d886eed65bcb89b6245e868f39c9707b8cb51d85c9995709fd16']\n",
      "['com/seculetter/sukcheong/core/OleObjectBin$1.class', '-', '4922110b077330cb8625604ec21ea4c41f21717d7929594ba37ab0c89be49072']\n"
     ]
    }
   ],
   "source": [
    "# Compare the hashes of files in both .jar files\n",
    "with open(outputCsv, \"w\", newline='') as csvfile:\n",
    "    writer = csv.writer(csvfile)\n",
    "    writer.writerow(['file_name', inputPaths[0], inputPaths[1]])\n",
    "    \n",
    "    for file_name in file_hashes1.keys():\n",
    "        if file_name in file_hashes2.keys():\n",
    "            if file_hashes1[file_name][0] != file_hashes2[file_name][0]:\n",
    "                if type(file_hashes1[file_name][0]) != type(file_hashes2[file_name][0]):\n",
    "                    if isinstance(file_hashes1[file_name][0],(str)) == True:\n",
    "                        if file_hashes1[file_name][0] != file_hashes2[file_name][0][0]:\n",
    "                            writer.writerow([file_name, file_hashes1[file_name][0], file_hashes2[file_name][0][0]])\n",
    "                            #print([file_name, file_hashes1[file_name][0], file_hashes2[file_name][0][0]])\n",
    "                        \n",
    "                    if isinstance(file_hashes1[file_name][0],(list)) == True:\n",
    "                        if file_hashes1[file_name][0][0] != file_hashes2[file_name][0]:\n",
    "                            writer.writerow([file_name, file_hashes1[file_name][0][0], file_hashes2[file_name][0]])\n",
    "                            #print([file_name, file_hashes1[file_name][0][0], file_hashes2[file_name][0]])\n",
    "                \n",
    "                if isinstance(file_hashes1[file_name][0],(str)) and isinstance(file_hashes2[file_name][0],(str)) == True:\n",
    "                    writer.writerow([file_name, file_hashes1[file_name], file_hashes2[file_name]])\n",
    "                    #print([file_name, file_hashes1[file_name], file_hashes2[file_name]])\n",
    "                    \n",
    "                if isinstance(file_hashes1[file_name][0],(list)) and isinstance(file_hashes2[file_name][0],(list)) == True:\n",
    "                    if file_hashes1[file_name][0][0] != file_hashes2[file_name][0][0]:\n",
    "                        writer.writerow([file_name, file_hashes1[file_name][0][0], file_hashes2[file_name][0][0]])\n",
    "                # Print file name and hash values if they differ\n",
    "                \n",
    "        else:\n",
    "            # Print file name and hash value if it's only in the first jar\n",
    "            if isinstance(file_hashes1[file_name][0],(str)) == True:\n",
    "                writer.writerow([file_name, file_hashes1[file_name]])\n",
    "                print([file_name, file_hashes1[file_name]])\n",
    "            \n",
    "            if isinstance(file_hashes1[file_name][0],(list)) == True:\n",
    "                writer.writerow([file_name, file_hashes1[file_name][0][0]])\n",
    "                print([file_name, file_hashes1[file_name][0][0]])\n",
    "\n",
    "    # Check for files in the second jar that are not in the first jar\n",
    "    for file_name in file_hashes2.keys():\n",
    "        if file_name not in file_hashes1.keys():\n",
    "            if isinstance(file_hashes2[file_name][0],(str)) == True:\n",
    "                writer.writerow([file_name, \"-\", file_hashes2[file_name]])\n",
    "                print([file_name, \"-\", file_hashes2[file_name]])\n",
    "            \n",
    "            if isinstance(file_hashes2[file_name][0],(list)) == True:\n",
    "                writer.writerow([file_name, \"-\", file_hashes2[file_name][0][0]])\n",
    "                print([file_name, \"-\", file_hashes2[file_name][0][0]])\n",
    "            # Print file name and hash value if it's only in the second jar\n"
   ]
  },
  {
   "cell_type": "code",
   "execution_count": 231,
   "id": "8abf7d7e",
   "metadata": {},
   "outputs": [
    {
     "name": "stdout",
     "output_type": "stream",
     "text": [
      "True\n",
      "1\n"
     ]
    }
   ],
   "source": [
    "result = isinstance(\"hi\", (int, float, str))\n",
    "print(result)\n",
    "\n",
    "if isinstance(file_hashes1[file_name][0],(str)) == True:\n",
    "    print(1)"
   ]
  },
  {
   "cell_type": "code",
   "execution_count": 18,
   "id": "babf8781",
   "metadata": {},
   "outputs": [
    {
     "data": {
      "text/plain": [
       "['\\\\\\\\192.168.2.21\\\\Package\\\\빌드 형상 관리\\\\MASR CDR\\\\v5.0.1\\\\cdr-5.0.1.1.jar',\n",
       " '\\\\\\\\192.168.2.21\\\\Package\\\\빌드 형상 관리\\\\MASR CDR\\\\v5.0.1\\\\cdr-5.0.1.2.jar']"
      ]
     },
     "execution_count": 18,
     "metadata": {},
     "output_type": "execute_result"
    }
   ],
   "source": [
    "inputPaths"
   ]
  },
  {
   "cell_type": "code",
   "execution_count": null,
   "id": "045d6795",
   "metadata": {},
   "outputs": [],
   "source": []
  }
 ],
 "metadata": {
  "kernelspec": {
   "display_name": "Python 3 (ipykernel)",
   "language": "python",
   "name": "python3"
  },
  "language_info": {
   "codemirror_mode": {
    "name": "ipython",
    "version": 3
   },
   "file_extension": ".py",
   "mimetype": "text/x-python",
   "name": "python",
   "nbconvert_exporter": "python",
   "pygments_lexer": "ipython3",
   "version": "3.7.9"
  }
 },
 "nbformat": 4,
 "nbformat_minor": 5
}
